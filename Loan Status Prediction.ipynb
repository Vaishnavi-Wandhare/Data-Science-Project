{
 "cells": [
  {
   "cell_type": "markdown",
   "id": "d39c0f2b",
   "metadata": {},
   "source": [
    "# <p style=\"background-color:orange;color:black;font-size:120%;text-align:center;border-radius:10px 10px;font-weight:bold;border:0px solid #800080;\">Loan Prediction Using Machine Learning</p>"
   ]
  },
  {
   "cell_type": "markdown",
   "id": "00487b5d",
   "metadata": {},
   "source": [
    "# 🎯Step-1) Business Problem Understanding\n",
    "Future Dream Finance company deals in all kinds of home loans.They have presence across all urban,semi urban and rural areas. Customer 1st applies for home loan and after that company validates the customer eligibility for loan.\n",
    "\n",
    "Company wants to automate the loan eligibility process(real time) based on customer detail provided while filling online application form.These details are Gender,Marital Status,Education,Number of Dependents,income,loan amount,Credit History and others.To automate this process.They process,they have provided a dataset to identify the customers segments that are eligible for loan amount so that they can specifically target these customers."
   ]
  },
  {
   "cell_type": "markdown",
   "id": "3b5ec58c",
   "metadata": {},
   "source": [
    "### ⚒️<u> Importing Required Python Libraries </u>"
   ]
  },
  {
   "cell_type": "code",
   "execution_count": 1,
   "id": "6ba16ce3",
   "metadata": {},
   "outputs": [],
   "source": [
    "import numpy as np\n",
    "import pandas as pd\n",
    "import matplotlib.pyplot as plt\n",
    "import plotly.express as px\n",
    "import seaborn as sns\n",
    "\n",
    "import warnings\n",
    "warnings.filterwarnings('ignore')"
   ]
  },
  {
   "cell_type": "markdown",
   "id": "6b558ee3",
   "metadata": {},
   "source": [
    "# 🎯Step-2) Data Understanding"
   ]
  },
  {
   "cell_type": "markdown",
   "id": "5af129c8",
   "metadata": {},
   "source": [
    "#### ⭐ Data Collection"
   ]
  },
  {
   "cell_type": "code",
   "execution_count": 2,
   "id": "1f11a647",
   "metadata": {},
   "outputs": [
    {
     "data": {
      "text/html": [
       "<div>\n",
       "<style scoped>\n",
       "    .dataframe tbody tr th:only-of-type {\n",
       "        vertical-align: middle;\n",
       "    }\n",
       "\n",
       "    .dataframe tbody tr th {\n",
       "        vertical-align: top;\n",
       "    }\n",
       "\n",
       "    .dataframe thead th {\n",
       "        text-align: right;\n",
       "    }\n",
       "</style>\n",
       "<table border=\"1\" class=\"dataframe\">\n",
       "  <thead>\n",
       "    <tr style=\"text-align: right;\">\n",
       "      <th></th>\n",
       "      <th>Loan_ID</th>\n",
       "      <th>Gender</th>\n",
       "      <th>Married</th>\n",
       "      <th>Dependents</th>\n",
       "      <th>Education</th>\n",
       "      <th>Self_Employed</th>\n",
       "      <th>ApplicantIncome</th>\n",
       "      <th>CoapplicantIncome</th>\n",
       "      <th>LoanAmount</th>\n",
       "      <th>Loan_Amount_Term</th>\n",
       "      <th>Credit_History</th>\n",
       "      <th>Property_Area</th>\n",
       "      <th>Loan_Status</th>\n",
       "    </tr>\n",
       "  </thead>\n",
       "  <tbody>\n",
       "    <tr>\n",
       "      <th>0</th>\n",
       "      <td>LP001002</td>\n",
       "      <td>Male</td>\n",
       "      <td>No</td>\n",
       "      <td>0</td>\n",
       "      <td>Graduate</td>\n",
       "      <td>No</td>\n",
       "      <td>5849</td>\n",
       "      <td>0.0</td>\n",
       "      <td>NaN</td>\n",
       "      <td>360.0</td>\n",
       "      <td>1.0</td>\n",
       "      <td>Urban</td>\n",
       "      <td>Y</td>\n",
       "    </tr>\n",
       "    <tr>\n",
       "      <th>1</th>\n",
       "      <td>LP001003</td>\n",
       "      <td>Male</td>\n",
       "      <td>Yes</td>\n",
       "      <td>1</td>\n",
       "      <td>Graduate</td>\n",
       "      <td>No</td>\n",
       "      <td>4583</td>\n",
       "      <td>1508.0</td>\n",
       "      <td>128.0</td>\n",
       "      <td>360.0</td>\n",
       "      <td>1.0</td>\n",
       "      <td>Rural</td>\n",
       "      <td>N</td>\n",
       "    </tr>\n",
       "    <tr>\n",
       "      <th>2</th>\n",
       "      <td>LP001005</td>\n",
       "      <td>Male</td>\n",
       "      <td>Yes</td>\n",
       "      <td>0</td>\n",
       "      <td>Graduate</td>\n",
       "      <td>Yes</td>\n",
       "      <td>3000</td>\n",
       "      <td>0.0</td>\n",
       "      <td>66.0</td>\n",
       "      <td>360.0</td>\n",
       "      <td>1.0</td>\n",
       "      <td>Urban</td>\n",
       "      <td>Y</td>\n",
       "    </tr>\n",
       "    <tr>\n",
       "      <th>3</th>\n",
       "      <td>LP001006</td>\n",
       "      <td>Male</td>\n",
       "      <td>Yes</td>\n",
       "      <td>0</td>\n",
       "      <td>Not Graduate</td>\n",
       "      <td>No</td>\n",
       "      <td>2583</td>\n",
       "      <td>2358.0</td>\n",
       "      <td>120.0</td>\n",
       "      <td>360.0</td>\n",
       "      <td>1.0</td>\n",
       "      <td>Urban</td>\n",
       "      <td>Y</td>\n",
       "    </tr>\n",
       "    <tr>\n",
       "      <th>4</th>\n",
       "      <td>LP001008</td>\n",
       "      <td>Male</td>\n",
       "      <td>No</td>\n",
       "      <td>0</td>\n",
       "      <td>Graduate</td>\n",
       "      <td>No</td>\n",
       "      <td>6000</td>\n",
       "      <td>0.0</td>\n",
       "      <td>141.0</td>\n",
       "      <td>360.0</td>\n",
       "      <td>1.0</td>\n",
       "      <td>Urban</td>\n",
       "      <td>Y</td>\n",
       "    </tr>\n",
       "  </tbody>\n",
       "</table>\n",
       "</div>"
      ],
      "text/plain": [
       "    Loan_ID Gender Married Dependents     Education Self_Employed  \\\n",
       "0  LP001002   Male      No          0      Graduate            No   \n",
       "1  LP001003   Male     Yes          1      Graduate            No   \n",
       "2  LP001005   Male     Yes          0      Graduate           Yes   \n",
       "3  LP001006   Male     Yes          0  Not Graduate            No   \n",
       "4  LP001008   Male      No          0      Graduate            No   \n",
       "\n",
       "   ApplicantIncome  CoapplicantIncome  LoanAmount  Loan_Amount_Term  \\\n",
       "0             5849                0.0         NaN             360.0   \n",
       "1             4583             1508.0       128.0             360.0   \n",
       "2             3000                0.0        66.0             360.0   \n",
       "3             2583             2358.0       120.0             360.0   \n",
       "4             6000                0.0       141.0             360.0   \n",
       "\n",
       "   Credit_History Property_Area Loan_Status  \n",
       "0             1.0         Urban           Y  \n",
       "1             1.0         Rural           N  \n",
       "2             1.0         Urban           Y  \n",
       "3             1.0         Urban           Y  \n",
       "4             1.0         Urban           Y  "
      ]
     },
     "execution_count": 2,
     "metadata": {},
     "output_type": "execute_result"
    }
   ],
   "source": [
    "Loan_data=pd.read_csv(\"C:\\\\Users\\\\HP\\\\Downloads\\\\LoanData.csv\")\n",
    "Loan_data.head()"
   ]
  },
  {
   "cell_type": "code",
   "execution_count": 3,
   "id": "505b12f2",
   "metadata": {},
   "outputs": [
    {
     "name": "stdout",
     "output_type": "stream",
     "text": [
      "<class 'pandas.core.frame.DataFrame'>\n",
      "RangeIndex: 614 entries, 0 to 613\n",
      "Data columns (total 13 columns):\n",
      " #   Column             Non-Null Count  Dtype  \n",
      "---  ------             --------------  -----  \n",
      " 0   Loan_ID            614 non-null    object \n",
      " 1   Gender             601 non-null    object \n",
      " 2   Married            611 non-null    object \n",
      " 3   Dependents         599 non-null    object \n",
      " 4   Education          614 non-null    object \n",
      " 5   Self_Employed      582 non-null    object \n",
      " 6   ApplicantIncome    614 non-null    int64  \n",
      " 7   CoapplicantIncome  614 non-null    float64\n",
      " 8   LoanAmount         592 non-null    float64\n",
      " 9   Loan_Amount_Term   600 non-null    float64\n",
      " 10  Credit_History     564 non-null    float64\n",
      " 11  Property_Area      614 non-null    object \n",
      " 12  Loan_Status        614 non-null    object \n",
      "dtypes: float64(4), int64(1), object(8)\n",
      "memory usage: 62.5+ KB\n"
     ]
    }
   ],
   "source": [
    "Loan_data.info()"
   ]
  },
  {
   "cell_type": "code",
   "execution_count": 4,
   "id": "4415c2e5",
   "metadata": {},
   "outputs": [
    {
     "data": {
      "text/plain": [
       "Index(['Loan_ID', 'Gender', 'Married', 'Dependents', 'Education',\n",
       "       'Self_Employed', 'ApplicantIncome', 'CoapplicantIncome', 'LoanAmount',\n",
       "       'Loan_Amount_Term', 'Credit_History', 'Property_Area', 'Loan_Status'],\n",
       "      dtype='object')"
      ]
     },
     "execution_count": 4,
     "metadata": {},
     "output_type": "execute_result"
    }
   ],
   "source": [
    "Loan_data.columns"
   ]
  },
  {
   "cell_type": "markdown",
   "id": "23767ac4",
   "metadata": {},
   "source": [
    "### ⭐ Dataset Understanding"
   ]
  },
  {
   "cell_type": "markdown",
   "id": "df40fd43",
   "metadata": {},
   "source": [
    "* Loan_ID: Unique Loan ID\n",
    "* Gender: Male/Female\n",
    "* Married: Applicant married(Y/N)\n",
    "* Dependents: No.of family member depend on salary\n",
    "* Education: Applicants Education (Graduate/ Under Graduate)\n",
    "* Self_Employed: Self employed(Y/N)\n",
    "* ApplicantIncome: Applicant income\n",
    "* CoapplicantIncome:Coapplicant income\n",
    "* LoanAmount: Loan amount in thousands of dollars\n",
    "* Loan_Amount_Term: Term of loan in months\n",
    "* Credit_History: Credit history meets guidelines yes or no (taking money from outside also called depth amount)\n",
    "* Property_Area: Urban/semi Urban/Rural\n",
    "* Loan_Status: Loan approved(Y/N) target variable\n"
   ]
  },
  {
   "cell_type": "code",
   "execution_count": 5,
   "id": "1a7e34d9",
   "metadata": {},
   "outputs": [
    {
     "data": {
      "text/plain": [
       "614"
      ]
     },
     "execution_count": 5,
     "metadata": {},
     "output_type": "execute_result"
    }
   ],
   "source": [
    "Loan_data['Loan_ID'].nunique() "
   ]
  },
  {
   "cell_type": "code",
   "execution_count": 6,
   "id": "27c87d2f",
   "metadata": {},
   "outputs": [],
   "source": [
    "Loan_data.drop(columns=['Loan_ID'],inplace=True)"
   ]
  },
  {
   "cell_type": "code",
   "execution_count": 7,
   "id": "c772a017",
   "metadata": {},
   "outputs": [
    {
     "data": {
      "text/plain": [
       "Male      489\n",
       "Female    112\n",
       "Name: Gender, dtype: int64"
      ]
     },
     "execution_count": 7,
     "metadata": {},
     "output_type": "execute_result"
    }
   ],
   "source": [
    "Loan_data['Gender'].value_counts()"
   ]
  },
  {
   "cell_type": "code",
   "execution_count": 8,
   "id": "5ad80337",
   "metadata": {},
   "outputs": [
    {
     "data": {
      "text/plain": [
       "array(['No', 'Yes', nan], dtype=object)"
      ]
     },
     "execution_count": 8,
     "metadata": {},
     "output_type": "execute_result"
    }
   ],
   "source": [
    "Loan_data['Married'].unique()"
   ]
  },
  {
   "cell_type": "code",
   "execution_count": 9,
   "id": "7b03a350",
   "metadata": {},
   "outputs": [
    {
     "data": {
      "text/plain": [
       "array(['0', '1', '2', '3+', nan], dtype=object)"
      ]
     },
     "execution_count": 9,
     "metadata": {},
     "output_type": "execute_result"
    }
   ],
   "source": [
    "Loan_data['Dependents'].unique()"
   ]
  },
  {
   "cell_type": "code",
   "execution_count": 10,
   "id": "46304926",
   "metadata": {},
   "outputs": [
    {
     "data": {
      "text/plain": [
       "array(['Graduate', 'Not Graduate'], dtype=object)"
      ]
     },
     "execution_count": 10,
     "metadata": {},
     "output_type": "execute_result"
    }
   ],
   "source": [
    "Loan_data['Education'].unique()"
   ]
  },
  {
   "cell_type": "code",
   "execution_count": 11,
   "id": "1b0d97bd",
   "metadata": {},
   "outputs": [
    {
     "data": {
      "text/plain": [
       "array(['No', 'Yes', nan], dtype=object)"
      ]
     },
     "execution_count": 11,
     "metadata": {},
     "output_type": "execute_result"
    }
   ],
   "source": [
    "Loan_data['Self_Employed'].unique()"
   ]
  },
  {
   "cell_type": "code",
   "execution_count": 12,
   "id": "fea5e07f",
   "metadata": {},
   "outputs": [
    {
     "data": {
      "text/plain": [
       "505"
      ]
     },
     "execution_count": 12,
     "metadata": {},
     "output_type": "execute_result"
    }
   ],
   "source": [
    "Loan_data['ApplicantIncome'].nunique()"
   ]
  },
  {
   "cell_type": "code",
   "execution_count": 13,
   "id": "6812adcc",
   "metadata": {},
   "outputs": [
    {
     "data": {
      "text/plain": [
       "10"
      ]
     },
     "execution_count": 13,
     "metadata": {},
     "output_type": "execute_result"
    }
   ],
   "source": [
    "Loan_data['Loan_Amount_Term'].nunique()"
   ]
  },
  {
   "cell_type": "code",
   "execution_count": 14,
   "id": "5904d128",
   "metadata": {},
   "outputs": [
    {
     "data": {
      "text/plain": [
       "360.0    512\n",
       "180.0     44\n",
       "480.0     15\n",
       "300.0     13\n",
       "240.0      4\n",
       "84.0       4\n",
       "120.0      3\n",
       "60.0       2\n",
       "36.0       2\n",
       "12.0       1\n",
       "Name: Loan_Amount_Term, dtype: int64"
      ]
     },
     "execution_count": 14,
     "metadata": {},
     "output_type": "execute_result"
    }
   ],
   "source": [
    "Loan_data['Loan_Amount_Term'].value_counts()"
   ]
  },
  {
   "cell_type": "code",
   "execution_count": 15,
   "id": "18a0c668",
   "metadata": {},
   "outputs": [
    {
     "data": {
      "text/plain": [
       "array([ 1.,  0., nan])"
      ]
     },
     "execution_count": 15,
     "metadata": {},
     "output_type": "execute_result"
    }
   ],
   "source": [
    "Loan_data['Credit_History'].unique()"
   ]
  },
  {
   "cell_type": "markdown",
   "id": "6d8d645c",
   "metadata": {},
   "source": [
    "* For understanding replacing 1 to good & 0 to bad"
   ]
  },
  {
   "cell_type": "code",
   "execution_count": 16,
   "id": "dc5bbcef",
   "metadata": {},
   "outputs": [],
   "source": [
    "Loan_data['Credit_History']=Loan_data['Credit_History'].replace({1:\"good\",0:\"bad\"})"
   ]
  },
  {
   "cell_type": "code",
   "execution_count": 17,
   "id": "dd2efe66",
   "metadata": {},
   "outputs": [
    {
     "data": {
      "text/plain": [
       "array(['good', 'bad', nan], dtype=object)"
      ]
     },
     "execution_count": 17,
     "metadata": {},
     "output_type": "execute_result"
    }
   ],
   "source": [
    "Loan_data['Credit_History'].unique()"
   ]
  },
  {
   "cell_type": "code",
   "execution_count": 18,
   "id": "d612c70c",
   "metadata": {},
   "outputs": [
    {
     "data": {
      "text/plain": [
       "good    475\n",
       "bad      89\n",
       "Name: Credit_History, dtype: int64"
      ]
     },
     "execution_count": 18,
     "metadata": {},
     "output_type": "execute_result"
    }
   ],
   "source": [
    "Loan_data['Credit_History'].value_counts()"
   ]
  },
  {
   "cell_type": "code",
   "execution_count": 19,
   "id": "6bb59bae",
   "metadata": {},
   "outputs": [
    {
     "data": {
      "text/plain": [
       "Semiurban    233\n",
       "Urban        202\n",
       "Rural        179\n",
       "Name: Property_Area, dtype: int64"
      ]
     },
     "execution_count": 19,
     "metadata": {},
     "output_type": "execute_result"
    }
   ],
   "source": [
    "Loan_data['Property_Area'].value_counts()"
   ]
  },
  {
   "cell_type": "code",
   "execution_count": 20,
   "id": "220e35db",
   "metadata": {},
   "outputs": [
    {
     "data": {
      "text/plain": [
       "Y    422\n",
       "N    192\n",
       "Name: Loan_Status, dtype: int64"
      ]
     },
     "execution_count": 20,
     "metadata": {},
     "output_type": "execute_result"
    }
   ],
   "source": [
    "Loan_data['Loan_Status'].value_counts()"
   ]
  },
  {
   "cell_type": "code",
   "execution_count": 21,
   "id": "827ab32c",
   "metadata": {},
   "outputs": [],
   "source": [
    "continous=['ApplicantIncome','CoapplicantIncome','LoanAmount']\n",
    "\n",
    "discrete_categorical=['Gender','Married','Education','Self_Employed','Credit_History','Property_Area','Loan_Status']\n",
    "\n",
    "discrete_count=['Dependents','Loan_Amount_Term'] "
   ]
  },
  {
   "cell_type": "markdown",
   "id": "d3662a6d",
   "metadata": {},
   "source": [
    "### 📌Exploratory Data Analysis (EDA)"
   ]
  },
  {
   "cell_type": "code",
   "execution_count": 22,
   "id": "98af5e2c",
   "metadata": {},
   "outputs": [
    {
     "data": {
      "text/html": [
       "<style type=\"text/css\">\n",
       "#T_37e58_row0_col0, #T_37e58_row0_col1, #T_37e58_row0_col2, #T_37e58_row0_col3, #T_37e58_row0_col4, #T_37e58_row0_col5, #T_37e58_row0_col6, #T_37e58_row0_col7, #T_37e58_row1_col0 {\n",
       "  background-color: #7f2704;\n",
       "  color: #f1f1f1;\n",
       "}\n",
       "#T_37e58_row1_col1 {\n",
       "  background-color: #fdc895;\n",
       "  color: #000000;\n",
       "}\n",
       "#T_37e58_row1_col2 {\n",
       "  background-color: #fd9547;\n",
       "  color: #000000;\n",
       "}\n",
       "#T_37e58_row1_col3, #T_37e58_row1_col4, #T_37e58_row2_col0, #T_37e58_row2_col1, #T_37e58_row2_col2, #T_37e58_row2_col5, #T_37e58_row2_col6, #T_37e58_row2_col7 {\n",
       "  background-color: #fff5eb;\n",
       "  color: #000000;\n",
       "}\n",
       "#T_37e58_row1_col5 {\n",
       "  background-color: #fdc692;\n",
       "  color: #000000;\n",
       "}\n",
       "#T_37e58_row1_col6 {\n",
       "  background-color: #fdae6a;\n",
       "  color: #000000;\n",
       "}\n",
       "#T_37e58_row1_col7 {\n",
       "  background-color: #fc8a39;\n",
       "  color: #f1f1f1;\n",
       "}\n",
       "#T_37e58_row2_col3 {\n",
       "  background-color: #ffeedd;\n",
       "  color: #000000;\n",
       "}\n",
       "#T_37e58_row2_col4 {\n",
       "  background-color: #fff1e4;\n",
       "  color: #000000;\n",
       "}\n",
       "</style>\n",
       "<table id=\"T_37e58\">\n",
       "  <thead>\n",
       "    <tr>\n",
       "      <th class=\"blank level0\" >&nbsp;</th>\n",
       "      <th id=\"T_37e58_level0_col0\" class=\"col_heading level0 col0\" >count</th>\n",
       "      <th id=\"T_37e58_level0_col1\" class=\"col_heading level0 col1\" >mean</th>\n",
       "      <th id=\"T_37e58_level0_col2\" class=\"col_heading level0 col2\" >std</th>\n",
       "      <th id=\"T_37e58_level0_col3\" class=\"col_heading level0 col3\" >min</th>\n",
       "      <th id=\"T_37e58_level0_col4\" class=\"col_heading level0 col4\" >25%</th>\n",
       "      <th id=\"T_37e58_level0_col5\" class=\"col_heading level0 col5\" >50%</th>\n",
       "      <th id=\"T_37e58_level0_col6\" class=\"col_heading level0 col6\" >75%</th>\n",
       "      <th id=\"T_37e58_level0_col7\" class=\"col_heading level0 col7\" >max</th>\n",
       "    </tr>\n",
       "  </thead>\n",
       "  <tbody>\n",
       "    <tr>\n",
       "      <th id=\"T_37e58_level0_row0\" class=\"row_heading level0 row0\" >ApplicantIncome</th>\n",
       "      <td id=\"T_37e58_row0_col0\" class=\"data row0 col0\" >614.000000</td>\n",
       "      <td id=\"T_37e58_row0_col1\" class=\"data row0 col1\" >5403.460000</td>\n",
       "      <td id=\"T_37e58_row0_col2\" class=\"data row0 col2\" >6109.040000</td>\n",
       "      <td id=\"T_37e58_row0_col3\" class=\"data row0 col3\" >150.000000</td>\n",
       "      <td id=\"T_37e58_row0_col4\" class=\"data row0 col4\" >2877.500000</td>\n",
       "      <td id=\"T_37e58_row0_col5\" class=\"data row0 col5\" >3812.500000</td>\n",
       "      <td id=\"T_37e58_row0_col6\" class=\"data row0 col6\" >5795.000000</td>\n",
       "      <td id=\"T_37e58_row0_col7\" class=\"data row0 col7\" >81000.000000</td>\n",
       "    </tr>\n",
       "    <tr>\n",
       "      <th id=\"T_37e58_level0_row1\" class=\"row_heading level0 row1\" >CoapplicantIncome</th>\n",
       "      <td id=\"T_37e58_row1_col0\" class=\"data row1 col0\" >614.000000</td>\n",
       "      <td id=\"T_37e58_row1_col1\" class=\"data row1 col1\" >1621.250000</td>\n",
       "      <td id=\"T_37e58_row1_col2\" class=\"data row1 col2\" >2926.250000</td>\n",
       "      <td id=\"T_37e58_row1_col3\" class=\"data row1 col3\" >0.000000</td>\n",
       "      <td id=\"T_37e58_row1_col4\" class=\"data row1 col4\" >0.000000</td>\n",
       "      <td id=\"T_37e58_row1_col5\" class=\"data row1 col5\" >1188.500000</td>\n",
       "      <td id=\"T_37e58_row1_col6\" class=\"data row1 col6\" >2297.250000</td>\n",
       "      <td id=\"T_37e58_row1_col7\" class=\"data row1 col7\" >41667.000000</td>\n",
       "    </tr>\n",
       "    <tr>\n",
       "      <th id=\"T_37e58_level0_row2\" class=\"row_heading level0 row2\" >LoanAmount</th>\n",
       "      <td id=\"T_37e58_row2_col0\" class=\"data row2 col0\" >592.000000</td>\n",
       "      <td id=\"T_37e58_row2_col1\" class=\"data row2 col1\" >146.410000</td>\n",
       "      <td id=\"T_37e58_row2_col2\" class=\"data row2 col2\" >85.590000</td>\n",
       "      <td id=\"T_37e58_row2_col3\" class=\"data row2 col3\" >9.000000</td>\n",
       "      <td id=\"T_37e58_row2_col4\" class=\"data row2 col4\" >100.000000</td>\n",
       "      <td id=\"T_37e58_row2_col5\" class=\"data row2 col5\" >128.000000</td>\n",
       "      <td id=\"T_37e58_row2_col6\" class=\"data row2 col6\" >168.000000</td>\n",
       "      <td id=\"T_37e58_row2_col7\" class=\"data row2 col7\" >700.000000</td>\n",
       "    </tr>\n",
       "  </tbody>\n",
       "</table>\n"
      ],
      "text/plain": [
       "<pandas.io.formats.style.Styler at 0x1e73ddc6110>"
      ]
     },
     "execution_count": 22,
     "metadata": {},
     "output_type": "execute_result"
    }
   ],
   "source": [
    "Loan_data[continous].describe().T.round(2).style.background_gradient(cmap='Oranges')"
   ]
  },
  {
   "cell_type": "code",
   "execution_count": 23,
   "id": "5266baf2",
   "metadata": {},
   "outputs": [
    {
     "data": {
      "image/png": "[encoded data removed]",
      "text/plain": [
       "<Figure size 1800x800 with 3 Axes>"
      ]
     },
     "metadata": {},
     "output_type": "display_data"
    }
   ],
   "source": [
    "plt.rcParams['figure.figsize']=(18,8)\n",
    "\n",
    "plt.subplot(1,3,1)\n",
    "sns.histplot(Loan_data['ApplicantIncome'],kde=True,color='purple')\n",
    "\n",
    "plt.subplot(1,3,2)\n",
    "sns.histplot(Loan_data['CoapplicantIncome'],kde=True,color='yellow')\n",
    "\n",
    "plt.subplot(1,3,3)\n",
    "sns.histplot(Loan_data['LoanAmount'],kde=True,color='cyan')\n",
    "\n",
    "plt.suptitle('Univariate Analysis on Numerical Columns')\n",
    "plt.show()"
   ]
  },
  {
   "cell_type": "markdown",
   "id": "fc7c1e66",
   "metadata": {},
   "source": [
    "**🔔 Our Observation**\n",
    "\n",
    "* It is a Right Skew => Mean > Median\n",
    "\n",
    "* From curve we observe that high Applicantincome have very less people and less income have more people "
   ]
  },
  {
   "cell_type": "code",
   "execution_count": 24,
   "id": "5dfc5fe3",
   "metadata": {},
   "outputs": [
    {
     "data": {
      "text/plain": [
       "ApplicantIncome      6.539513\n",
       "CoapplicantIncome    7.491531\n",
       "LoanAmount           2.677552\n",
       "dtype: float64"
      ]
     },
     "execution_count": 24,
     "metadata": {},
     "output_type": "execute_result"
    }
   ],
   "source": [
    "Loan_data[continous].skew()"
   ]
  },
  {
   "cell_type": "code",
   "execution_count": 25,
   "id": "26c51d89",
   "metadata": {
    "scrolled": true
   },
   "outputs": [
    {
     "data": {
      "image/png": "[encoded data removed]",
      "text/plain": [
       "<Figure size 750x750 with 12 Axes>"
      ]
     },
     "metadata": {},
     "output_type": "display_data"
    }
   ],
   "source": [
    "sns.pairplot(Loan_data[continous])\n",
    "plt.show()"
   ]
  },
  {
   "cell_type": "code",
   "execution_count": 26,
   "id": "3cce890f",
   "metadata": {},
   "outputs": [
    {
     "data": {
      "text/plain": [
       "<Axes: >"
      ]
     },
     "execution_count": 26,
     "metadata": {},
     "output_type": "execute_result"
    },
    {
     "data": {
      "image/png": "[encoded data removed]",
      "text/plain": [
       "<Figure size 1800x800 with 2 Axes>"
      ]
     },
     "metadata": {},
     "output_type": "display_data"
    }
   ],
   "source": [
    "sns.heatmap(Loan_data[continous].corr(),annot=True)"
   ]
  },
  {
   "cell_type": "markdown",
   "id": "77047666",
   "metadata": {},
   "source": [
    "**🔔 Our Observation**\n",
    "\n",
    "* we observe relation between Applicant income and loan amount is high."
   ]
  },
  {
   "cell_type": "markdown",
   "id": "6ddfec5c",
   "metadata": {},
   "source": [
    "### 🥨Outliers tretment\n",
    "* we retrain the outliers as it is , we should not modify outliers in this case.Bez for high amount of income - high amount of loan will be their, keep them as it is."
   ]
  },
  {
   "cell_type": "code",
   "execution_count": 27,
   "id": "532b075d",
   "metadata": {},
   "outputs": [
    {
     "data": {
      "image/png": "[encoded data removed]",
      "text/plain": [
       "<Figure size 1800x800 with 3 Axes>"
      ]
     },
     "metadata": {},
     "output_type": "display_data"
    }
   ],
   "source": [
    "# lets visualize the outliers using Box plot\n",
    "\n",
    "plt.subplot(1,3,1)\n",
    "sns.boxplot(Loan_data['ApplicantIncome'],color='purple')\n",
    "\n",
    "plt.subplot(1,3,2)\n",
    "sns.boxplot(Loan_data['CoapplicantIncome'],color='yellow')\n",
    "\n",
    "plt.subplot(1,3,3)\n",
    "sns.boxplot(Loan_data['LoanAmount'],color='cyan')\n",
    "\n",
    "plt.suptitle('Outliers in the Data')\n",
    "plt.show()"
   ]
  },
  {
   "cell_type": "code",
   "execution_count": 28,
   "id": "75cc3c02",
   "metadata": {},
   "outputs": [
    {
     "data": {
      "text/html": [
       "<div>\n",
       "<style scoped>\n",
       "    .dataframe tbody tr th:only-of-type {\n",
       "        vertical-align: middle;\n",
       "    }\n",
       "\n",
       "    .dataframe tbody tr th {\n",
       "        vertical-align: top;\n",
       "    }\n",
       "\n",
       "    .dataframe thead th {\n",
       "        text-align: right;\n",
       "    }\n",
       "</style>\n",
       "<table border=\"1\" class=\"dataframe\">\n",
       "  <thead>\n",
       "    <tr style=\"text-align: right;\">\n",
       "      <th></th>\n",
       "      <th>Gender</th>\n",
       "      <th>Married</th>\n",
       "      <th>Education</th>\n",
       "      <th>Self_Employed</th>\n",
       "      <th>Credit_History</th>\n",
       "      <th>Property_Area</th>\n",
       "      <th>Loan_Status</th>\n",
       "    </tr>\n",
       "  </thead>\n",
       "  <tbody>\n",
       "    <tr>\n",
       "      <th>count</th>\n",
       "      <td>601</td>\n",
       "      <td>611</td>\n",
       "      <td>614</td>\n",
       "      <td>582</td>\n",
       "      <td>564</td>\n",
       "      <td>614</td>\n",
       "      <td>614</td>\n",
       "    </tr>\n",
       "    <tr>\n",
       "      <th>unique</th>\n",
       "      <td>2</td>\n",
       "      <td>2</td>\n",
       "      <td>2</td>\n",
       "      <td>2</td>\n",
       "      <td>2</td>\n",
       "      <td>3</td>\n",
       "      <td>2</td>\n",
       "    </tr>\n",
       "    <tr>\n",
       "      <th>top</th>\n",
       "      <td>Male</td>\n",
       "      <td>Yes</td>\n",
       "      <td>Graduate</td>\n",
       "      <td>No</td>\n",
       "      <td>good</td>\n",
       "      <td>Semiurban</td>\n",
       "      <td>Y</td>\n",
       "    </tr>\n",
       "    <tr>\n",
       "      <th>freq</th>\n",
       "      <td>489</td>\n",
       "      <td>398</td>\n",
       "      <td>480</td>\n",
       "      <td>500</td>\n",
       "      <td>475</td>\n",
       "      <td>233</td>\n",
       "      <td>422</td>\n",
       "    </tr>\n",
       "  </tbody>\n",
       "</table>\n",
       "</div>"
      ],
      "text/plain": [
       "       Gender Married Education Self_Employed Credit_History Property_Area  \\\n",
       "count     601     611       614           582            564           614   \n",
       "unique      2       2         2             2              2             3   \n",
       "top      Male     Yes  Graduate            No           good     Semiurban   \n",
       "freq      489     398       480           500            475           233   \n",
       "\n",
       "       Loan_Status  \n",
       "count          614  \n",
       "unique           2  \n",
       "top              Y  \n",
       "freq           422  "
      ]
     },
     "execution_count": 28,
     "metadata": {},
     "output_type": "execute_result"
    }
   ],
   "source": [
    "Loan_data[discrete_categorical].describe()"
   ]
  },
  {
   "cell_type": "code",
   "execution_count": 29,
   "id": "4b2ddae1",
   "metadata": {},
   "outputs": [
    {
     "data": {
      "image/png": "[encoded data removed]",
      "text/plain": [
       "<Figure size 1800x1000 with 6 Axes>"
      ]
     },
     "metadata": {},
     "output_type": "display_data"
    }
   ],
   "source": [
    "plt.rcParams[\"figure.figsize\"]=(18,10)\n",
    "\n",
    "plt.subplot(2,3,1)\n",
    "sns.countplot(data=Loan_data,x=\"Gender\",ec=\"yellow\")\n",
    "\n",
    "plt.subplot(2,3,2)\n",
    "sns.countplot(data=Loan_data,x=\"Married\",ec=\"yellow\")\n",
    "\n",
    "plt.subplot(2,3,3)\n",
    "sns.countplot(data=Loan_data,x=\"Self_Employed\",ec=\"yellow\")\n",
    "\n",
    "plt.subplot(2,3,4)\n",
    "sns.countplot(data=Loan_data,x=\"Property_Area\",ec=\"yellow\")\n",
    "\n",
    "plt.subplot(2,3,5)\n",
    "sns.countplot(data=Loan_data,x=\"Education\",ec=\"yellow\")\n",
    "\n",
    "plt.subplot(2,3,6)\n",
    "sns.countplot(data=Loan_data,x=\"Loan_Status\",ec=\"yellow\")\n",
    "\n",
    "plt.suptitle('Univariate Analysis on Categorical Columns')\n",
    "plt.show()"
   ]
  },
  {
   "cell_type": "markdown",
   "id": "ba9e3ab0",
   "metadata": {},
   "source": [
    "# 🎯Step-3) Data Preparation"
   ]
  },
  {
   "cell_type": "markdown",
   "id": "aebd76cb",
   "metadata": {},
   "source": [
    "* combine column bez loan amount is dependent on ApplicantIncome and CoapplicantIncome."
   ]
  },
  {
   "cell_type": "code",
   "execution_count": 30,
   "id": "dbc0df13",
   "metadata": {},
   "outputs": [],
   "source": [
    "Loan_data[\"Income\"]=Loan_data['ApplicantIncome']+Loan_data['CoapplicantIncome']\n",
    "\n",
    "Loan_data.drop(columns=['ApplicantIncome','CoapplicantIncome'],inplace=True)"
   ]
  },
  {
   "cell_type": "markdown",
   "id": "5dc05720",
   "metadata": {},
   "source": [
    "#### 🏵️Modifiying the wrong data"
   ]
  },
  {
   "cell_type": "code",
   "execution_count": 31,
   "id": "ae6f05a9",
   "metadata": {},
   "outputs": [],
   "source": [
    "Loan_data['Dependents']=Loan_data['Dependents'].replace({'3+':3})"
   ]
  },
  {
   "cell_type": "markdown",
   "id": "f4e467ff",
   "metadata": {},
   "source": [
    "#### 🏵️Missing Values Treatment"
   ]
  },
  {
   "cell_type": "code",
   "execution_count": 32,
   "id": "a9d44c70",
   "metadata": {},
   "outputs": [
    {
     "data": {
      "text/plain": [
       "Gender              13\n",
       "Married              3\n",
       "Dependents          15\n",
       "Education            0\n",
       "Self_Employed       32\n",
       "LoanAmount          22\n",
       "Loan_Amount_Term    14\n",
       "Credit_History      50\n",
       "Property_Area        0\n",
       "Loan_Status          0\n",
       "Income               0\n",
       "dtype: int64"
      ]
     },
     "execution_count": 32,
     "metadata": {},
     "output_type": "execute_result"
    }
   ],
   "source": [
    "Loan_data.isnull().sum()"
   ]
  },
  {
   "cell_type": "code",
   "execution_count": 33,
   "id": "d6f0d156",
   "metadata": {},
   "outputs": [
    {
     "data": {
      "text/plain": [
       "Gender              2.117264\n",
       "Married             0.488599\n",
       "Dependents          2.442997\n",
       "Education           0.000000\n",
       "Self_Employed       5.211726\n",
       "LoanAmount          3.583062\n",
       "Loan_Amount_Term    2.280130\n",
       "Credit_History      8.143322\n",
       "Property_Area       0.000000\n",
       "Loan_Status         0.000000\n",
       "Income              0.000000\n",
       "dtype: float64"
      ]
     },
     "execution_count": 33,
     "metadata": {},
     "output_type": "execute_result"
    }
   ],
   "source": [
    "Loan_data.isnull().sum()/len(Loan_data)*100"
   ]
  },
  {
   "cell_type": "markdown",
   "id": "7e29a841",
   "metadata": {},
   "source": [
    "* every-data has less than 30% so everything has to be replace.\n",
    "* you can't replace Income (ApplicantIncome + CoapplicantIncome),Loan_Amount,Loan_Amount_term,Credit_History bez loan is accepted or rejected is dependent on applicant income. \n",
    "* loanAmount and loan_amount_term we drop rows whose having no value (empty).\n",
    "* remaining cloumn replace"
   ]
  },
  {
   "cell_type": "markdown",
   "id": "b92d519f",
   "metadata": {},
   "source": [
    "* We don't know what is the exact income & we can't put average for it, that's why we drop that row which having missing value."
   ]
  },
  {
   "cell_type": "code",
   "execution_count": 34,
   "id": "6c54ea3e",
   "metadata": {},
   "outputs": [],
   "source": [
    "Loan_data=Loan_data.dropna(subset=[\"Income\",'LoanAmount','Loan_Amount_Term','Credit_History'])"
   ]
  },
  {
   "cell_type": "markdown",
   "id": "b16e1222",
   "metadata": {},
   "source": [
    "* If any 1 not fill the dependents column so just consider it 0."
   ]
  },
  {
   "cell_type": "code",
   "execution_count": 35,
   "id": "4b8b697f",
   "metadata": {},
   "outputs": [],
   "source": [
    "#count variable replace with 0\n",
    "Loan_data['Dependents']=Loan_data['Dependents'].fillna(0)"
   ]
  },
  {
   "cell_type": "code",
   "execution_count": 36,
   "id": "ef97af77",
   "metadata": {},
   "outputs": [],
   "source": [
    "Loan_data['Gender']=Loan_data['Gender'].fillna(Loan_data['Gender'].mode()[0])\n",
    "\n",
    "Loan_data['Married']=Loan_data['Married'].fillna(Loan_data['Married'].mode()[0])\n",
    "\n",
    "Loan_data['Self_Employed']=Loan_data['Self_Employed'].fillna(Loan_data['Self_Employed'].mode()[0])\n"
   ]
  },
  {
   "cell_type": "code",
   "execution_count": 37,
   "id": "6394f406",
   "metadata": {},
   "outputs": [
    {
     "data": {
      "text/plain": [
       "Gender              0\n",
       "Married             0\n",
       "Dependents          0\n",
       "Education           0\n",
       "Self_Employed       0\n",
       "LoanAmount          0\n",
       "Loan_Amount_Term    0\n",
       "Credit_History      0\n",
       "Property_Area       0\n",
       "Loan_Status         0\n",
       "Income              0\n",
       "dtype: int64"
      ]
     },
     "execution_count": 37,
     "metadata": {},
     "output_type": "execute_result"
    }
   ],
   "source": [
    "Loan_data.isnull().sum()"
   ]
  },
  {
   "cell_type": "markdown",
   "id": "e5edc15f",
   "metadata": {},
   "source": [
    "## 📌Data Wrangling"
   ]
  },
  {
   "cell_type": "markdown",
   "id": "cc5e286d",
   "metadata": {},
   "source": [
    "#### Encoding"
   ]
  },
  {
   "cell_type": "code",
   "execution_count": 38,
   "id": "474ff7f5",
   "metadata": {},
   "outputs": [],
   "source": [
    "Loan_data['Gender']=Loan_data['Gender'].map({'Male':1, 'Female':0}).astype('int')\n",
    "Loan_data['Married'] = Loan_data['Married'].map({'Yes':1, 'No':0}).astype('int')\n",
    "Loan_data['Education'] = Loan_data['Education'].map({'Graduate':1, 'Not Graduate':0}).astype('int')\n",
    "Loan_data['Self_Employed'] = Loan_data['Self_Employed'].map({'Yes':1, 'No':0}).astype('int')\n",
    "Loan_data['Property_Area'] = Loan_data['Property_Area'].map({'Rural':0, 'Semiurban':1, 'Urban':2}).astype('int')\n",
    "Loan_data['Credit_History'] = Loan_data['Credit_History'].map({'good':1,'bad':0}).astype('int')\n",
    "Loan_data['Loan_Status'] = Loan_data['Loan_Status'].map({'Y':1, 'N':0}).astype('int')"
   ]
  },
  {
   "cell_type": "markdown",
   "id": "274a2f85",
   "metadata": {},
   "source": [
    "### 📌Data Type Conversion"
   ]
  },
  {
   "cell_type": "code",
   "execution_count": 39,
   "id": "02105e3b",
   "metadata": {},
   "outputs": [],
   "source": [
    "Loan_data['Dependents']=Loan_data['Dependents'].astype('int')\n",
    "Loan_data['Loan_Amount_Term']=Loan_data['Loan_Amount_Term'].astype('int')"
   ]
  },
  {
   "cell_type": "markdown",
   "id": "7c8961a5",
   "metadata": {},
   "source": [
    "### 📌Transformations"
   ]
  },
  {
   "cell_type": "code",
   "execution_count": 40,
   "id": "e952b190",
   "metadata": {},
   "outputs": [
    {
     "data": {
      "text/plain": [
       "Income        5.777628\n",
       "LoanAmount    2.607945\n",
       "dtype: float64"
      ]
     },
     "execution_count": 40,
     "metadata": {},
     "output_type": "execute_result"
    }
   ],
   "source": [
    "Loan_data[['Income','LoanAmount']].skew()"
   ]
  },
  {
   "cell_type": "code",
   "execution_count": 41,
   "id": "d4535314",
   "metadata": {},
   "outputs": [],
   "source": [
    "from scipy.stats import boxcox\n",
    "Loan_data['Income'],a=boxcox(Loan_data['Income'])\n",
    "Loan_data['LoanAmount'],c=boxcox(Loan_data['LoanAmount'])"
   ]
  },
  {
   "cell_type": "code",
   "execution_count": 42,
   "id": "9671f8fa",
   "metadata": {},
   "outputs": [
    {
     "data": {
      "text/plain": [
       "Income       -0.027769\n",
       "LoanAmount    0.038289\n",
       "dtype: float64"
      ]
     },
     "execution_count": 42,
     "metadata": {},
     "output_type": "execute_result"
    }
   ],
   "source": [
    "Loan_data[['Income','LoanAmount']].skew()"
   ]
  },
  {
   "cell_type": "markdown",
   "id": "a02409ac",
   "metadata": {},
   "source": [
    "**🔔Our Observation**\n",
    "* Both Income & LoanAmount are almost close to normal distribution."
   ]
  },
  {
   "cell_type": "code",
   "execution_count": 43,
   "id": "3a757985",
   "metadata": {},
   "outputs": [],
   "source": [
    "Loan_data['Loan_Amount_Term']=Loan_data['Loan_Amount_Term']/12"
   ]
  },
  {
   "cell_type": "code",
   "execution_count": 44,
   "id": "4599e8db",
   "metadata": {},
   "outputs": [
    {
     "data": {
      "text/plain": [
       "array([30., 10., 15.,  5., 25., 40., 20.,  3.,  7.])"
      ]
     },
     "execution_count": 44,
     "metadata": {},
     "output_type": "execute_result"
    }
   ],
   "source": [
    "Loan_data['Loan_Amount_Term'].unique()"
   ]
  },
  {
   "cell_type": "code",
   "execution_count": 45,
   "id": "ca6c51b6",
   "metadata": {},
   "outputs": [
    {
     "data": {
      "text/html": [
       "<div>\n",
       "<style scoped>\n",
       "    .dataframe tbody tr th:only-of-type {\n",
       "        vertical-align: middle;\n",
       "    }\n",
       "\n",
       "    .dataframe tbody tr th {\n",
       "        vertical-align: top;\n",
       "    }\n",
       "\n",
       "    .dataframe thead th {\n",
       "        text-align: right;\n",
       "    }\n",
       "</style>\n",
       "<table border=\"1\" class=\"dataframe\">\n",
       "  <thead>\n",
       "    <tr style=\"text-align: right;\">\n",
       "      <th></th>\n",
       "      <th>Gender</th>\n",
       "      <th>Married</th>\n",
       "      <th>Dependents</th>\n",
       "      <th>Education</th>\n",
       "      <th>Self_Employed</th>\n",
       "      <th>LoanAmount</th>\n",
       "      <th>Loan_Amount_Term</th>\n",
       "      <th>Credit_History</th>\n",
       "      <th>Property_Area</th>\n",
       "      <th>Loan_Status</th>\n",
       "      <th>Income</th>\n",
       "    </tr>\n",
       "  </thead>\n",
       "  <tbody>\n",
       "    <tr>\n",
       "      <th>1</th>\n",
       "      <td>1</td>\n",
       "      <td>1</td>\n",
       "      <td>1</td>\n",
       "      <td>1</td>\n",
       "      <td>0</td>\n",
       "      <td>6.243267</td>\n",
       "      <td>30.0</td>\n",
       "      <td>1</td>\n",
       "      <td>0</td>\n",
       "      <td>0</td>\n",
       "      <td>1.864967</td>\n",
       "    </tr>\n",
       "    <tr>\n",
       "      <th>2</th>\n",
       "      <td>1</td>\n",
       "      <td>1</td>\n",
       "      <td>0</td>\n",
       "      <td>1</td>\n",
       "      <td>1</td>\n",
       "      <td>5.202610</td>\n",
       "      <td>30.0</td>\n",
       "      <td>1</td>\n",
       "      <td>2</td>\n",
       "      <td>1</td>\n",
       "      <td>1.856556</td>\n",
       "    </tr>\n",
       "    <tr>\n",
       "      <th>3</th>\n",
       "      <td>1</td>\n",
       "      <td>1</td>\n",
       "      <td>0</td>\n",
       "      <td>0</td>\n",
       "      <td>0</td>\n",
       "      <td>6.138816</td>\n",
       "      <td>30.0</td>\n",
       "      <td>1</td>\n",
       "      <td>2</td>\n",
       "      <td>1</td>\n",
       "      <td>1.862802</td>\n",
       "    </tr>\n",
       "    <tr>\n",
       "      <th>4</th>\n",
       "      <td>1</td>\n",
       "      <td>0</td>\n",
       "      <td>0</td>\n",
       "      <td>1</td>\n",
       "      <td>0</td>\n",
       "      <td>6.401083</td>\n",
       "      <td>30.0</td>\n",
       "      <td>1</td>\n",
       "      <td>2</td>\n",
       "      <td>1</td>\n",
       "      <td>1.864819</td>\n",
       "    </tr>\n",
       "    <tr>\n",
       "      <th>5</th>\n",
       "      <td>1</td>\n",
       "      <td>1</td>\n",
       "      <td>2</td>\n",
       "      <td>1</td>\n",
       "      <td>1</td>\n",
       "      <td>7.481930</td>\n",
       "      <td>30.0</td>\n",
       "      <td>1</td>\n",
       "      <td>2</td>\n",
       "      <td>1</td>\n",
       "      <td>1.868932</td>\n",
       "    </tr>\n",
       "    <tr>\n",
       "      <th>...</th>\n",
       "      <td>...</td>\n",
       "      <td>...</td>\n",
       "      <td>...</td>\n",
       "      <td>...</td>\n",
       "      <td>...</td>\n",
       "      <td>...</td>\n",
       "      <td>...</td>\n",
       "      <td>...</td>\n",
       "      <td>...</td>\n",
       "      <td>...</td>\n",
       "      <td>...</td>\n",
       "    </tr>\n",
       "    <tr>\n",
       "      <th>609</th>\n",
       "      <td>0</td>\n",
       "      <td>0</td>\n",
       "      <td>0</td>\n",
       "      <td>1</td>\n",
       "      <td>0</td>\n",
       "      <td>5.313992</td>\n",
       "      <td>30.0</td>\n",
       "      <td>1</td>\n",
       "      <td>0</td>\n",
       "      <td>1</td>\n",
       "      <td>1.856069</td>\n",
       "    </tr>\n",
       "    <tr>\n",
       "      <th>610</th>\n",
       "      <td>1</td>\n",
       "      <td>1</td>\n",
       "      <td>3</td>\n",
       "      <td>1</td>\n",
       "      <td>0</td>\n",
       "      <td>4.460305</td>\n",
       "      <td>15.0</td>\n",
       "      <td>1</td>\n",
       "      <td>0</td>\n",
       "      <td>1</td>\n",
       "      <td>1.860675</td>\n",
       "    </tr>\n",
       "    <tr>\n",
       "      <th>611</th>\n",
       "      <td>1</td>\n",
       "      <td>1</td>\n",
       "      <td>1</td>\n",
       "      <td>1</td>\n",
       "      <td>0</td>\n",
       "      <td>7.388070</td>\n",
       "      <td>30.0</td>\n",
       "      <td>1</td>\n",
       "      <td>2</td>\n",
       "      <td>1</td>\n",
       "      <td>1.867771</td>\n",
       "    </tr>\n",
       "    <tr>\n",
       "      <th>612</th>\n",
       "      <td>1</td>\n",
       "      <td>1</td>\n",
       "      <td>2</td>\n",
       "      <td>1</td>\n",
       "      <td>0</td>\n",
       "      <td>6.870558</td>\n",
       "      <td>30.0</td>\n",
       "      <td>1</td>\n",
       "      <td>2</td>\n",
       "      <td>1</td>\n",
       "      <td>1.866991</td>\n",
       "    </tr>\n",
       "    <tr>\n",
       "      <th>613</th>\n",
       "      <td>0</td>\n",
       "      <td>0</td>\n",
       "      <td>0</td>\n",
       "      <td>1</td>\n",
       "      <td>1</td>\n",
       "      <td>6.305602</td>\n",
       "      <td>30.0</td>\n",
       "      <td>0</td>\n",
       "      <td>1</td>\n",
       "      <td>0</td>\n",
       "      <td>1.861963</td>\n",
       "    </tr>\n",
       "  </tbody>\n",
       "</table>\n",
       "<p>529 rows × 11 columns</p>\n",
       "</div>"
      ],
      "text/plain": [
       "     Gender  Married  Dependents  Education  Self_Employed  LoanAmount  \\\n",
       "1         1        1           1          1              0    6.243267   \n",
       "2         1        1           0          1              1    5.202610   \n",
       "3         1        1           0          0              0    6.138816   \n",
       "4         1        0           0          1              0    6.401083   \n",
       "5         1        1           2          1              1    7.481930   \n",
       "..      ...      ...         ...        ...            ...         ...   \n",
       "609       0        0           0          1              0    5.313992   \n",
       "610       1        1           3          1              0    4.460305   \n",
       "611       1        1           1          1              0    7.388070   \n",
       "612       1        1           2          1              0    6.870558   \n",
       "613       0        0           0          1              1    6.305602   \n",
       "\n",
       "     Loan_Amount_Term  Credit_History  Property_Area  Loan_Status    Income  \n",
       "1                30.0               1              0            0  1.864967  \n",
       "2                30.0               1              2            1  1.856556  \n",
       "3                30.0               1              2            1  1.862802  \n",
       "4                30.0               1              2            1  1.864819  \n",
       "5                30.0               1              2            1  1.868932  \n",
       "..                ...             ...            ...          ...       ...  \n",
       "609              30.0               1              0            1  1.856069  \n",
       "610              15.0               1              0            1  1.860675  \n",
       "611              30.0               1              2            1  1.867771  \n",
       "612              30.0               1              2            1  1.866991  \n",
       "613              30.0               0              1            0  1.861963  \n",
       "\n",
       "[529 rows x 11 columns]"
      ]
     },
     "execution_count": 45,
     "metadata": {},
     "output_type": "execute_result"
    }
   ],
   "source": [
    "Loan_data"
   ]
  },
  {
   "cell_type": "markdown",
   "id": "766d5c06",
   "metadata": {},
   "source": [
    "#### ⭐X & Y"
   ]
  },
  {
   "cell_type": "code",
   "execution_count": 46,
   "id": "9174d24d",
   "metadata": {},
   "outputs": [],
   "source": [
    "X=Loan_data.drop('Loan_Status',axis=1)\n",
    "y=Loan_data['Loan_Status']"
   ]
  },
  {
   "cell_type": "markdown",
   "id": "137539a2",
   "metadata": {},
   "source": [
    "### 🪓Train-Test-Split"
   ]
  },
  {
   "cell_type": "code",
   "execution_count": 47,
   "id": "35965253",
   "metadata": {},
   "outputs": [],
   "source": [
    "from sklearn.model_selection import train_test_split\n",
    "X_train,X_test,y_train,y_test=train_test_split(X,y,test_size=0.2,random_state=70)"
   ]
  },
  {
   "cell_type": "code",
   "execution_count": 48,
   "id": "a2b9fa90",
   "metadata": {},
   "outputs": [
    {
     "data": {
      "text/html": [
       "<div>\n",
       "<style scoped>\n",
       "    .dataframe tbody tr th:only-of-type {\n",
       "        vertical-align: middle;\n",
       "    }\n",
       "\n",
       "    .dataframe tbody tr th {\n",
       "        vertical-align: top;\n",
       "    }\n",
       "\n",
       "    .dataframe thead th {\n",
       "        text-align: right;\n",
       "    }\n",
       "</style>\n",
       "<table border=\"1\" class=\"dataframe\">\n",
       "  <thead>\n",
       "    <tr style=\"text-align: right;\">\n",
       "      <th></th>\n",
       "      <th>Gender</th>\n",
       "      <th>Married</th>\n",
       "      <th>Dependents</th>\n",
       "      <th>Education</th>\n",
       "      <th>Self_Employed</th>\n",
       "      <th>LoanAmount</th>\n",
       "      <th>Loan_Amount_Term</th>\n",
       "      <th>Credit_History</th>\n",
       "      <th>Property_Area</th>\n",
       "      <th>Income</th>\n",
       "    </tr>\n",
       "  </thead>\n",
       "  <tbody>\n",
       "    <tr>\n",
       "      <th>1</th>\n",
       "      <td>1</td>\n",
       "      <td>1</td>\n",
       "      <td>1</td>\n",
       "      <td>1</td>\n",
       "      <td>0</td>\n",
       "      <td>6.243267</td>\n",
       "      <td>30.0</td>\n",
       "      <td>1</td>\n",
       "      <td>0</td>\n",
       "      <td>1.864967</td>\n",
       "    </tr>\n",
       "    <tr>\n",
       "      <th>2</th>\n",
       "      <td>1</td>\n",
       "      <td>1</td>\n",
       "      <td>0</td>\n",
       "      <td>1</td>\n",
       "      <td>1</td>\n",
       "      <td>5.202610</td>\n",
       "      <td>30.0</td>\n",
       "      <td>1</td>\n",
       "      <td>2</td>\n",
       "      <td>1.856556</td>\n",
       "    </tr>\n",
       "    <tr>\n",
       "      <th>3</th>\n",
       "      <td>1</td>\n",
       "      <td>1</td>\n",
       "      <td>0</td>\n",
       "      <td>0</td>\n",
       "      <td>0</td>\n",
       "      <td>6.138816</td>\n",
       "      <td>30.0</td>\n",
       "      <td>1</td>\n",
       "      <td>2</td>\n",
       "      <td>1.862802</td>\n",
       "    </tr>\n",
       "    <tr>\n",
       "      <th>4</th>\n",
       "      <td>1</td>\n",
       "      <td>0</td>\n",
       "      <td>0</td>\n",
       "      <td>1</td>\n",
       "      <td>0</td>\n",
       "      <td>6.401083</td>\n",
       "      <td>30.0</td>\n",
       "      <td>1</td>\n",
       "      <td>2</td>\n",
       "      <td>1.864819</td>\n",
       "    </tr>\n",
       "    <tr>\n",
       "      <th>5</th>\n",
       "      <td>1</td>\n",
       "      <td>1</td>\n",
       "      <td>2</td>\n",
       "      <td>1</td>\n",
       "      <td>1</td>\n",
       "      <td>7.481930</td>\n",
       "      <td>30.0</td>\n",
       "      <td>1</td>\n",
       "      <td>2</td>\n",
       "      <td>1.868932</td>\n",
       "    </tr>\n",
       "    <tr>\n",
       "      <th>...</th>\n",
       "      <td>...</td>\n",
       "      <td>...</td>\n",
       "      <td>...</td>\n",
       "      <td>...</td>\n",
       "      <td>...</td>\n",
       "      <td>...</td>\n",
       "      <td>...</td>\n",
       "      <td>...</td>\n",
       "      <td>...</td>\n",
       "      <td>...</td>\n",
       "    </tr>\n",
       "    <tr>\n",
       "      <th>609</th>\n",
       "      <td>0</td>\n",
       "      <td>0</td>\n",
       "      <td>0</td>\n",
       "      <td>1</td>\n",
       "      <td>0</td>\n",
       "      <td>5.313992</td>\n",
       "      <td>30.0</td>\n",
       "      <td>1</td>\n",
       "      <td>0</td>\n",
       "      <td>1.856069</td>\n",
       "    </tr>\n",
       "    <tr>\n",
       "      <th>610</th>\n",
       "      <td>1</td>\n",
       "      <td>1</td>\n",
       "      <td>3</td>\n",
       "      <td>1</td>\n",
       "      <td>0</td>\n",
       "      <td>4.460305</td>\n",
       "      <td>15.0</td>\n",
       "      <td>1</td>\n",
       "      <td>0</td>\n",
       "      <td>1.860675</td>\n",
       "    </tr>\n",
       "    <tr>\n",
       "      <th>611</th>\n",
       "      <td>1</td>\n",
       "      <td>1</td>\n",
       "      <td>1</td>\n",
       "      <td>1</td>\n",
       "      <td>0</td>\n",
       "      <td>7.388070</td>\n",
       "      <td>30.0</td>\n",
       "      <td>1</td>\n",
       "      <td>2</td>\n",
       "      <td>1.867771</td>\n",
       "    </tr>\n",
       "    <tr>\n",
       "      <th>612</th>\n",
       "      <td>1</td>\n",
       "      <td>1</td>\n",
       "      <td>2</td>\n",
       "      <td>1</td>\n",
       "      <td>0</td>\n",
       "      <td>6.870558</td>\n",
       "      <td>30.0</td>\n",
       "      <td>1</td>\n",
       "      <td>2</td>\n",
       "      <td>1.866991</td>\n",
       "    </tr>\n",
       "    <tr>\n",
       "      <th>613</th>\n",
       "      <td>0</td>\n",
       "      <td>0</td>\n",
       "      <td>0</td>\n",
       "      <td>1</td>\n",
       "      <td>1</td>\n",
       "      <td>6.305602</td>\n",
       "      <td>30.0</td>\n",
       "      <td>0</td>\n",
       "      <td>1</td>\n",
       "      <td>1.861963</td>\n",
       "    </tr>\n",
       "  </tbody>\n",
       "</table>\n",
       "<p>529 rows × 10 columns</p>\n",
       "</div>"
      ],
      "text/plain": [
       "     Gender  Married  Dependents  Education  Self_Employed  LoanAmount  \\\n",
       "1         1        1           1          1              0    6.243267   \n",
       "2         1        1           0          1              1    5.202610   \n",
       "3         1        1           0          0              0    6.138816   \n",
       "4         1        0           0          1              0    6.401083   \n",
       "5         1        1           2          1              1    7.481930   \n",
       "..      ...      ...         ...        ...            ...         ...   \n",
       "609       0        0           0          1              0    5.313992   \n",
       "610       1        1           3          1              0    4.460305   \n",
       "611       1        1           1          1              0    7.388070   \n",
       "612       1        1           2          1              0    6.870558   \n",
       "613       0        0           0          1              1    6.305602   \n",
       "\n",
       "     Loan_Amount_Term  Credit_History  Property_Area    Income  \n",
       "1                30.0               1              0  1.864967  \n",
       "2                30.0               1              2  1.856556  \n",
       "3                30.0               1              2  1.862802  \n",
       "4                30.0               1              2  1.864819  \n",
       "5                30.0               1              2  1.868932  \n",
       "..                ...             ...            ...       ...  \n",
       "609              30.0               1              0  1.856069  \n",
       "610              15.0               1              0  1.860675  \n",
       "611              30.0               1              2  1.867771  \n",
       "612              30.0               1              2  1.866991  \n",
       "613              30.0               0              1  1.861963  \n",
       "\n",
       "[529 rows x 10 columns]"
      ]
     },
     "execution_count": 48,
     "metadata": {},
     "output_type": "execute_result"
    }
   ],
   "source": [
    "X"
   ]
  },
  {
   "cell_type": "code",
   "execution_count": 49,
   "id": "3bb4c275",
   "metadata": {},
   "outputs": [
    {
     "data": {
      "text/plain": [
       "1      0\n",
       "2      1\n",
       "3      1\n",
       "4      1\n",
       "5      1\n",
       "      ..\n",
       "609    1\n",
       "610    1\n",
       "611    1\n",
       "612    1\n",
       "613    0\n",
       "Name: Loan_Status, Length: 529, dtype: int32"
      ]
     },
     "execution_count": 49,
     "metadata": {},
     "output_type": "execute_result"
    }
   ],
   "source": [
    "y"
   ]
  },
  {
   "cell_type": "code",
   "execution_count": 50,
   "id": "81dd230e",
   "metadata": {},
   "outputs": [
    {
     "name": "stdout",
     "output_type": "stream",
     "text": [
      "<class 'pandas.core.frame.DataFrame'>\n",
      "Int64Index: 529 entries, 1 to 613\n",
      "Data columns (total 10 columns):\n",
      " #   Column            Non-Null Count  Dtype  \n",
      "---  ------            --------------  -----  \n",
      " 0   Gender            529 non-null    int32  \n",
      " 1   Married           529 non-null    int32  \n",
      " 2   Dependents        529 non-null    int32  \n",
      " 3   Education         529 non-null    int32  \n",
      " 4   Self_Employed     529 non-null    int32  \n",
      " 5   LoanAmount        529 non-null    float64\n",
      " 6   Loan_Amount_Term  529 non-null    float64\n",
      " 7   Credit_History    529 non-null    int32  \n",
      " 8   Property_Area     529 non-null    int32  \n",
      " 9   Income            529 non-null    float64\n",
      "dtypes: float64(3), int32(7)\n",
      "memory usage: 31.0 KB\n"
     ]
    }
   ],
   "source": [
    "X.info()"
   ]
  },
  {
   "cell_type": "code",
   "execution_count": 51,
   "id": "3d8cae22",
   "metadata": {},
   "outputs": [
    {
     "name": "stdout",
     "output_type": "stream",
     "text": [
      "<class 'pandas.core.series.Series'>\n",
      "Int64Index: 529 entries, 1 to 613\n",
      "Series name: Loan_Status\n",
      "Non-Null Count  Dtype\n",
      "--------------  -----\n",
      "529 non-null    int32\n",
      "dtypes: int32(1)\n",
      "memory usage: 6.2 KB\n"
     ]
    }
   ],
   "source": [
    "y.info()"
   ]
  },
  {
   "cell_type": "markdown",
   "id": "b02705f4",
   "metadata": {},
   "source": [
    "# 🎯Step 4)& 5)Machine Learning Modelling & Evaluation"
   ]
  },
  {
   "cell_type": "markdown",
   "id": "04c979c5",
   "metadata": {},
   "source": [
    "### 🥏ML algorithm- 1.Logistic Regression"
   ]
  },
  {
   "cell_type": "code",
   "execution_count": 52,
   "id": "cf8721f5",
   "metadata": {},
   "outputs": [
    {
     "name": "stdout",
     "output_type": "stream",
     "text": [
      "Train Accuracy: 0.8226950354609929\n",
      "Cross validation score: 0.8227731092436976\n",
      "Test Accuracy: 0.7830188679245284\n"
     ]
    }
   ],
   "source": [
    "from sklearn.linear_model import LogisticRegression\n",
    "from sklearn.metrics import accuracy_score\n",
    "from sklearn.model_selection import cross_val_score\n",
    "\n",
    "log_model=LogisticRegression()\n",
    "log_model.fit(X_train,y_train)\n",
    "\n",
    "ypred_train=log_model.predict(X_train)\n",
    "ypred_test=log_model.predict(X_test)\n",
    "\n",
    "print(\"Train Accuracy:\",accuracy_score(y_train,ypred_train))\n",
    "print(\"Cross validation score:\",cross_val_score(log_model,X_train,y_train,cv=5,scoring=\"accuracy\").mean())\n",
    "print(\"Test Accuracy:\",accuracy_score(y_test,ypred_test))"
   ]
  },
  {
   "cell_type": "markdown",
   "id": "d457db5b",
   "metadata": {},
   "source": [
    "### 🥏 ML Algorithm - 2. KNN"
   ]
  },
  {
   "cell_type": "code",
   "execution_count": 53,
   "id": "da25baa2",
   "metadata": {},
   "outputs": [
    {
     "name": "stdout",
     "output_type": "stream",
     "text": [
      "Train Accuracy: 0.7541371158392435\n",
      "Cross validation score: 0.7375910364145659\n",
      "Test Accuracy: 0.7075471698113207\n"
     ]
    }
   ],
   "source": [
    "from sklearn.neighbors import KNeighborsClassifier\n",
    "\n",
    "estimator=KNeighborsClassifier()\n",
    "param_grid={'n_neighbors':list(range(1,50))}\n",
    "\n",
    "from sklearn.model_selection import GridSearchCV\n",
    "knn_grid=GridSearchCV(estimator,param_grid,scoring='accuracy',cv=5)\n",
    "knn_grid.fit(X_train,y_train)\n",
    "\n",
    "knn_model=knn_grid.best_estimator_\n",
    "\n",
    "ypred_train=knn_model.predict(X_train)\n",
    "ypred_test=knn_model.predict(X_test)\n",
    "\n",
    "print(\"Train Accuracy:\",accuracy_score(y_train,ypred_train))\n",
    "print(\"Cross validation score:\",cross_val_score(knn_model,X_train,y_train,cv=5,scoring=\"accuracy\").mean())\n",
    "print(\"Test Accuracy:\",accuracy_score(y_test,ypred_test))"
   ]
  },
  {
   "cell_type": "code",
   "execution_count": 54,
   "id": "bd2b07d2",
   "metadata": {},
   "outputs": [
    {
     "data": {
      "text/html": [
       "<style>#sk-container-id-1 {color: black;}#sk-container-id-1 pre{padding: 0;}#sk-container-id-1 div.sk-toggleable {background-color: white;}#sk-container-id-1 label.sk-toggleable__label {cursor: pointer;display: block;width: 100%;margin-bottom: 0;padding: 0.3em;box-sizing: border-box;text-align: center;}#sk-container-id-1 label.sk-toggleable__label-arrow:before {content: \"▸\";float: left;margin-right: 0.25em;color: #696969;}#sk-container-id-1 label.sk-toggleable__label-arrow:hover:before {color: black;}#sk-container-id-1 div.sk-estimator:hover label.sk-toggleable__label-arrow:before {color: black;}#sk-container-id-1 div.sk-toggleable__content {max-height: 0;max-width: 0;overflow: hidden;text-align: left;background-color: #f0f8ff;}#sk-container-id-1 div.sk-toggleable__content pre {margin: 0.2em;color: black;border-radius: 0.25em;background-color: #f0f8ff;}#sk-container-id-1 input.sk-toggleable__control:checked~div.sk-toggleable__content {max-height: 200px;max-width: 100%;overflow: auto;}#sk-container-id-1 input.sk-toggleable__control:checked~label.sk-toggleable__label-arrow:before {content: \"▾\";}#sk-container-id-1 div.sk-estimator input.sk-toggleable__control:checked~label.sk-toggleable__label {background-color: #d4ebff;}#sk-container-id-1 div.sk-label input.sk-toggleable__control:checked~label.sk-toggleable__label {background-color: #d4ebff;}#sk-container-id-1 input.sk-hidden--visually {border: 0;clip: rect(1px 1px 1px 1px);clip: rect(1px, 1px, 1px, 1px);height: 1px;margin: -1px;overflow: hidden;padding: 0;position: absolute;width: 1px;}#sk-container-id-1 div.sk-estimator {font-family: monospace;background-color: #f0f8ff;border: 1px dotted black;border-radius: 0.25em;box-sizing: border-box;margin-bottom: 0.5em;}#sk-container-id-1 div.sk-estimator:hover {background-color: #d4ebff;}#sk-container-id-1 div.sk-parallel-item::after {content: \"\";width: 100%;border-bottom: 1px solid gray;flex-grow: 1;}#sk-container-id-1 div.sk-label:hover label.sk-toggleable__label {background-color: #d4ebff;}#sk-container-id-1 div.sk-serial::before {content: \"\";position: absolute;border-left: 1px solid gray;box-sizing: border-box;top: 0;bottom: 0;left: 50%;z-index: 0;}#sk-container-id-1 div.sk-serial {display: flex;flex-direction: column;align-items: center;background-color: white;padding-right: 0.2em;padding-left: 0.2em;position: relative;}#sk-container-id-1 div.sk-item {position: relative;z-index: 1;}#sk-container-id-1 div.sk-parallel {display: flex;align-items: stretch;justify-content: center;background-color: white;position: relative;}#sk-container-id-1 div.sk-item::before, #sk-container-id-1 div.sk-parallel-item::before {content: \"\";position: absolute;border-left: 1px solid gray;box-sizing: border-box;top: 0;bottom: 0;left: 50%;z-index: -1;}#sk-container-id-1 div.sk-parallel-item {display: flex;flex-direction: column;z-index: 1;position: relative;background-color: white;}#sk-container-id-1 div.sk-parallel-item:first-child::after {align-self: flex-end;width: 50%;}#sk-container-id-1 div.sk-parallel-item:last-child::after {align-self: flex-start;width: 50%;}#sk-container-id-1 div.sk-parallel-item:only-child::after {width: 0;}#sk-container-id-1 div.sk-dashed-wrapped {border: 1px dashed gray;margin: 0 0.4em 0.5em 0.4em;box-sizing: border-box;padding-bottom: 0.4em;background-color: white;}#sk-container-id-1 div.sk-label label {font-family: monospace;font-weight: bold;display: inline-block;line-height: 1.2em;}#sk-container-id-1 div.sk-label-container {text-align: center;}#sk-container-id-1 div.sk-container {/* jupyter's `normalize.less` sets `[hidden] { display: none; }` but bootstrap.min.css set `[hidden] { display: none !important; }` so we also need the `!important` here to be able to override the default hidden behavior on the sphinx rendered scikit-learn.org. See: https://github.com/scikit-learn/scikit-learn/issues/21755 */display: inline-block !important;position: relative;}#sk-container-id-1 div.sk-text-repr-fallback {display: none;}</style><div id=\"sk-container-id-1\" class=\"sk-top-container\"><div class=\"sk-text-repr-fallback\"><pre>KNeighborsClassifier(n_neighbors=13)</pre><b>In a Jupyter environment, please rerun this cell to show the HTML representation or trust the notebook. <br />On GitHub, the HTML representation is unable to render, please try loading this page with nbviewer.org.</b></div><div class=\"sk-container\" hidden><div class=\"sk-item\"><div class=\"sk-estimator sk-toggleable\"><input class=\"sk-toggleable__control sk-hidden--visually\" id=\"sk-estimator-id-1\" type=\"checkbox\" checked><label for=\"sk-estimator-id-1\" class=\"sk-toggleable__label sk-toggleable__label-arrow\">KNeighborsClassifier</label><div class=\"sk-toggleable__content\"><pre>KNeighborsClassifier(n_neighbors=13)</pre></div></div></div></div></div>"
      ],
      "text/plain": [
       "KNeighborsClassifier(n_neighbors=13)"
      ]
     },
     "execution_count": 54,
     "metadata": {},
     "output_type": "execute_result"
    }
   ],
   "source": [
    "knn_grid.best_estimator_"
   ]
  },
  {
   "cell_type": "markdown",
   "id": "ff5f12da",
   "metadata": {},
   "source": [
    "### 🥏ML Algorithm - 3. Support Vector Machine (SVM)"
   ]
  },
  {
   "cell_type": "code",
   "execution_count": 55,
   "id": "f5d33ac8",
   "metadata": {},
   "outputs": [
    {
     "name": "stdout",
     "output_type": "stream",
     "text": [
      "Train Accuracy: 0.8226950354609929\n",
      "Cross validation score: 0.8227731092436976\n",
      "Test Accuracy: 0.7830188679245284\n"
     ]
    }
   ],
   "source": [
    "from sklearn.svm import SVC\n",
    "\n",
    "estimator =SVC()\n",
    "param_grid={'C':[0.01,0.1,1],'kernel':['linear','rbf','sigmoid','poly']}\n",
    "\n",
    "\n",
    "from sklearn.model_selection import GridSearchCV\n",
    "svm_grid=GridSearchCV(estimator,param_grid,scoring='accuracy',cv=5)\n",
    "svm_grid.fit(X_train,y_train)\n",
    "\n",
    "svm_model=svm_grid.best_estimator_\n",
    "\n",
    "ypred_train=svm_model.predict(X_train)\n",
    "ypred_test=svm_model.predict(X_test)\n",
    "\n",
    "print(\"Train Accuracy:\",accuracy_score(y_train,ypred_train))\n",
    "print(\"Cross validation score:\",cross_val_score(svm_model,X_train,y_train,cv=5,scoring=\"accuracy\").mean())\n",
    "print(\"Test Accuracy:\",accuracy_score(y_test,ypred_test))\n"
   ]
  },
  {
   "cell_type": "code",
   "execution_count": 56,
   "id": "c6505057",
   "metadata": {},
   "outputs": [
    {
     "data": {
      "text/html": [
       "<style>#sk-container-id-2 {color: black;}#sk-container-id-2 pre{padding: 0;}#sk-container-id-2 div.sk-toggleable {background-color: white;}#sk-container-id-2 label.sk-toggleable__label {cursor: pointer;display: block;width: 100%;margin-bottom: 0;padding: 0.3em;box-sizing: border-box;text-align: center;}#sk-container-id-2 label.sk-toggleable__label-arrow:before {content: \"▸\";float: left;margin-right: 0.25em;color: #696969;}#sk-container-id-2 label.sk-toggleable__label-arrow:hover:before {color: black;}#sk-container-id-2 div.sk-estimator:hover label.sk-toggleable__label-arrow:before {color: black;}#sk-container-id-2 div.sk-toggleable__content {max-height: 0;max-width: 0;overflow: hidden;text-align: left;background-color: #f0f8ff;}#sk-container-id-2 div.sk-toggleable__content pre {margin: 0.2em;color: black;border-radius: 0.25em;background-color: #f0f8ff;}#sk-container-id-2 input.sk-toggleable__control:checked~div.sk-toggleable__content {max-height: 200px;max-width: 100%;overflow: auto;}#sk-container-id-2 input.sk-toggleable__control:checked~label.sk-toggleable__label-arrow:before {content: \"▾\";}#sk-container-id-2 div.sk-estimator input.sk-toggleable__control:checked~label.sk-toggleable__label {background-color: #d4ebff;}#sk-container-id-2 div.sk-label input.sk-toggleable__control:checked~label.sk-toggleable__label {background-color: #d4ebff;}#sk-container-id-2 input.sk-hidden--visually {border: 0;clip: rect(1px 1px 1px 1px);clip: rect(1px, 1px, 1px, 1px);height: 1px;margin: -1px;overflow: hidden;padding: 0;position: absolute;width: 1px;}#sk-container-id-2 div.sk-estimator {font-family: monospace;background-color: #f0f8ff;border: 1px dotted black;border-radius: 0.25em;box-sizing: border-box;margin-bottom: 0.5em;}#sk-container-id-2 div.sk-estimator:hover {background-color: #d4ebff;}#sk-container-id-2 div.sk-parallel-item::after {content: \"\";width: 100%;border-bottom: 1px solid gray;flex-grow: 1;}#sk-container-id-2 div.sk-label:hover label.sk-toggleable__label {background-color: #d4ebff;}#sk-container-id-2 div.sk-serial::before {content: \"\";position: absolute;border-left: 1px solid gray;box-sizing: border-box;top: 0;bottom: 0;left: 50%;z-index: 0;}#sk-container-id-2 div.sk-serial {display: flex;flex-direction: column;align-items: center;background-color: white;padding-right: 0.2em;padding-left: 0.2em;position: relative;}#sk-container-id-2 div.sk-item {position: relative;z-index: 1;}#sk-container-id-2 div.sk-parallel {display: flex;align-items: stretch;justify-content: center;background-color: white;position: relative;}#sk-container-id-2 div.sk-item::before, #sk-container-id-2 div.sk-parallel-item::before {content: \"\";position: absolute;border-left: 1px solid gray;box-sizing: border-box;top: 0;bottom: 0;left: 50%;z-index: -1;}#sk-container-id-2 div.sk-parallel-item {display: flex;flex-direction: column;z-index: 1;position: relative;background-color: white;}#sk-container-id-2 div.sk-parallel-item:first-child::after {align-self: flex-end;width: 50%;}#sk-container-id-2 div.sk-parallel-item:last-child::after {align-self: flex-start;width: 50%;}#sk-container-id-2 div.sk-parallel-item:only-child::after {width: 0;}#sk-container-id-2 div.sk-dashed-wrapped {border: 1px dashed gray;margin: 0 0.4em 0.5em 0.4em;box-sizing: border-box;padding-bottom: 0.4em;background-color: white;}#sk-container-id-2 div.sk-label label {font-family: monospace;font-weight: bold;display: inline-block;line-height: 1.2em;}#sk-container-id-2 div.sk-label-container {text-align: center;}#sk-container-id-2 div.sk-container {/* jupyter's `normalize.less` sets `[hidden] { display: none; }` but bootstrap.min.css set `[hidden] { display: none !important; }` so we also need the `!important` here to be able to override the default hidden behavior on the sphinx rendered scikit-learn.org. See: https://github.com/scikit-learn/scikit-learn/issues/21755 */display: inline-block !important;position: relative;}#sk-container-id-2 div.sk-text-repr-fallback {display: none;}</style><div id=\"sk-container-id-2\" class=\"sk-top-container\"><div class=\"sk-text-repr-fallback\"><pre>SVC(C=0.1, kernel=&#x27;linear&#x27;)</pre><b>In a Jupyter environment, please rerun this cell to show the HTML representation or trust the notebook. <br />On GitHub, the HTML representation is unable to render, please try loading this page with nbviewer.org.</b></div><div class=\"sk-container\" hidden><div class=\"sk-item\"><div class=\"sk-estimator sk-toggleable\"><input class=\"sk-toggleable__control sk-hidden--visually\" id=\"sk-estimator-id-2\" type=\"checkbox\" checked><label for=\"sk-estimator-id-2\" class=\"sk-toggleable__label sk-toggleable__label-arrow\">SVC</label><div class=\"sk-toggleable__content\"><pre>SVC(C=0.1, kernel=&#x27;linear&#x27;)</pre></div></div></div></div></div>"
      ],
      "text/plain": [
       "SVC(C=0.1, kernel='linear')"
      ]
     },
     "execution_count": 56,
     "metadata": {},
     "output_type": "execute_result"
    }
   ],
   "source": [
    "svm_grid.best_estimator_"
   ]
  },
  {
   "cell_type": "markdown",
   "id": "93ce2da7",
   "metadata": {},
   "source": [
    "### 🥏ML Algorithm - 4.Decision Tree Classifier"
   ]
  },
  {
   "cell_type": "markdown",
   "id": "6c31644a",
   "metadata": {},
   "source": [
    "**🔸HPT(Hyperparameter Tunning / Optimization)**"
   ]
  },
  {
   "cell_type": "code",
   "execution_count": 57,
   "id": "54305b6e",
   "metadata": {},
   "outputs": [
    {
     "data": {
      "text/html": [
       "<style>#sk-container-id-3 {color: black;}#sk-container-id-3 pre{padding: 0;}#sk-container-id-3 div.sk-toggleable {background-color: white;}#sk-container-id-3 label.sk-toggleable__label {cursor: pointer;display: block;width: 100%;margin-bottom: 0;padding: 0.3em;box-sizing: border-box;text-align: center;}#sk-container-id-3 label.sk-toggleable__label-arrow:before {content: \"▸\";float: left;margin-right: 0.25em;color: #696969;}#sk-container-id-3 label.sk-toggleable__label-arrow:hover:before {color: black;}#sk-container-id-3 div.sk-estimator:hover label.sk-toggleable__label-arrow:before {color: black;}#sk-container-id-3 div.sk-toggleable__content {max-height: 0;max-width: 0;overflow: hidden;text-align: left;background-color: #f0f8ff;}#sk-container-id-3 div.sk-toggleable__content pre {margin: 0.2em;color: black;border-radius: 0.25em;background-color: #f0f8ff;}#sk-container-id-3 input.sk-toggleable__control:checked~div.sk-toggleable__content {max-height: 200px;max-width: 100%;overflow: auto;}#sk-container-id-3 input.sk-toggleable__control:checked~label.sk-toggleable__label-arrow:before {content: \"▾\";}#sk-container-id-3 div.sk-estimator input.sk-toggleable__control:checked~label.sk-toggleable__label {background-color: #d4ebff;}#sk-container-id-3 div.sk-label input.sk-toggleable__control:checked~label.sk-toggleable__label {background-color: #d4ebff;}#sk-container-id-3 input.sk-hidden--visually {border: 0;clip: rect(1px 1px 1px 1px);clip: rect(1px, 1px, 1px, 1px);height: 1px;margin: -1px;overflow: hidden;padding: 0;position: absolute;width: 1px;}#sk-container-id-3 div.sk-estimator {font-family: monospace;background-color: #f0f8ff;border: 1px dotted black;border-radius: 0.25em;box-sizing: border-box;margin-bottom: 0.5em;}#sk-container-id-3 div.sk-estimator:hover {background-color: #d4ebff;}#sk-container-id-3 div.sk-parallel-item::after {content: \"\";width: 100%;border-bottom: 1px solid gray;flex-grow: 1;}#sk-container-id-3 div.sk-label:hover label.sk-toggleable__label {background-color: #d4ebff;}#sk-container-id-3 div.sk-serial::before {content: \"\";position: absolute;border-left: 1px solid gray;box-sizing: border-box;top: 0;bottom: 0;left: 50%;z-index: 0;}#sk-container-id-3 div.sk-serial {display: flex;flex-direction: column;align-items: center;background-color: white;padding-right: 0.2em;padding-left: 0.2em;position: relative;}#sk-container-id-3 div.sk-item {position: relative;z-index: 1;}#sk-container-id-3 div.sk-parallel {display: flex;align-items: stretch;justify-content: center;background-color: white;position: relative;}#sk-container-id-3 div.sk-item::before, #sk-container-id-3 div.sk-parallel-item::before {content: \"\";position: absolute;border-left: 1px solid gray;box-sizing: border-box;top: 0;bottom: 0;left: 50%;z-index: -1;}#sk-container-id-3 div.sk-parallel-item {display: flex;flex-direction: column;z-index: 1;position: relative;background-color: white;}#sk-container-id-3 div.sk-parallel-item:first-child::after {align-self: flex-end;width: 50%;}#sk-container-id-3 div.sk-parallel-item:last-child::after {align-self: flex-start;width: 50%;}#sk-container-id-3 div.sk-parallel-item:only-child::after {width: 0;}#sk-container-id-3 div.sk-dashed-wrapped {border: 1px dashed gray;margin: 0 0.4em 0.5em 0.4em;box-sizing: border-box;padding-bottom: 0.4em;background-color: white;}#sk-container-id-3 div.sk-label label {font-family: monospace;font-weight: bold;display: inline-block;line-height: 1.2em;}#sk-container-id-3 div.sk-label-container {text-align: center;}#sk-container-id-3 div.sk-container {/* jupyter's `normalize.less` sets `[hidden] { display: none; }` but bootstrap.min.css set `[hidden] { display: none !important; }` so we also need the `!important` here to be able to override the default hidden behavior on the sphinx rendered scikit-learn.org. See: https://github.com/scikit-learn/scikit-learn/issues/21755 */display: inline-block !important;position: relative;}#sk-container-id-3 div.sk-text-repr-fallback {display: none;}</style><div id=\"sk-container-id-3\" class=\"sk-top-container\"><div class=\"sk-text-repr-fallback\"><pre>DecisionTreeClassifier(max_depth=1, random_state=70)</pre><b>In a Jupyter environment, please rerun this cell to show the HTML representation or trust the notebook. <br />On GitHub, the HTML representation is unable to render, please try loading this page with nbviewer.org.</b></div><div class=\"sk-container\" hidden><div class=\"sk-item\"><div class=\"sk-estimator sk-toggleable\"><input class=\"sk-toggleable__control sk-hidden--visually\" id=\"sk-estimator-id-3\" type=\"checkbox\" checked><label for=\"sk-estimator-id-3\" class=\"sk-toggleable__label sk-toggleable__label-arrow\">DecisionTreeClassifier</label><div class=\"sk-toggleable__content\"><pre>DecisionTreeClassifier(max_depth=1, random_state=70)</pre></div></div></div></div></div>"
      ],
      "text/plain": [
       "DecisionTreeClassifier(max_depth=1, random_state=70)"
      ]
     },
     "execution_count": 57,
     "metadata": {},
     "output_type": "execute_result"
    }
   ],
   "source": [
    "from sklearn.tree import DecisionTreeClassifier\n",
    "estimator=DecisionTreeClassifier(random_state=70)\n",
    "param_grid={\"criterion\":[\"gini\",\"entropy\"],\n",
    "           \"max_depth\":list(range(1,16))}\n",
    "\n",
    "from sklearn.model_selection import GridSearchCV\n",
    "dt_grid=GridSearchCV(estimator,param_grid,scoring='accuracy',cv=5)\n",
    "dt_grid.fit(X_train,y_train)\n",
    "\n",
    "# identify the best model\n",
    "dt=dt_grid.best_estimator_\n",
    "dt"
   ]
  },
  {
   "cell_type": "markdown",
   "id": "88c89fb2",
   "metadata": {},
   "source": [
    "### Dimension Reduction (identify imp features)"
   ]
  },
  {
   "cell_type": "code",
   "execution_count": 58,
   "id": "46e852f9",
   "metadata": {},
   "outputs": [
    {
     "name": "stdout",
     "output_type": "stream",
     "text": [
      "Train Accuracy: 0.8226950354609929\n",
      "Cross validation score: 0.8227731092436976\n",
      "Test Accuracy: 0.7830188679245284\n"
     ]
    }
   ],
   "source": [
    "#identify the importance of each feature\n",
    "dt_fi=dt.feature_importances_\n",
    "\n",
    "# identify the features where the feature importance is greater than 0\n",
    "index=[i for i,X in enumerate(dt_fi) if X>0]\n",
    "\n",
    "# create new dataset with important features\n",
    "X_train_dt=X_train.iloc[:,index]\n",
    "X_test_dt=X_test.iloc[:,index]\n",
    "\n",
    "# train with best model & with important features\n",
    "dt.fit(X_train_dt,y_train)\n",
    "\n",
    "ypred_train=dt.predict(X_train_dt)\n",
    "ypred_test=dt.predict(X_test_dt)\n",
    "\n",
    "# Evaluate the best model\n",
    "print(\"Train Accuracy:\",accuracy_score(y_train,ypred_train))\n",
    "print(\"Cross validation score:\",cross_val_score(dt,X_train,y_train,cv=5,scoring=\"accuracy\").mean())\n",
    "print(\"Test Accuracy:\",accuracy_score(y_test,ypred_test))\n"
   ]
  },
  {
   "cell_type": "code",
   "execution_count": 59,
   "id": "7ef6caa2",
   "metadata": {},
   "outputs": [
    {
     "data": {
      "text/html": [
       "<style>#sk-container-id-4 {color: black;}#sk-container-id-4 pre{padding: 0;}#sk-container-id-4 div.sk-toggleable {background-color: white;}#sk-container-id-4 label.sk-toggleable__label {cursor: pointer;display: block;width: 100%;margin-bottom: 0;padding: 0.3em;box-sizing: border-box;text-align: center;}#sk-container-id-4 label.sk-toggleable__label-arrow:before {content: \"▸\";float: left;margin-right: 0.25em;color: #696969;}#sk-container-id-4 label.sk-toggleable__label-arrow:hover:before {color: black;}#sk-container-id-4 div.sk-estimator:hover label.sk-toggleable__label-arrow:before {color: black;}#sk-container-id-4 div.sk-toggleable__content {max-height: 0;max-width: 0;overflow: hidden;text-align: left;background-color: #f0f8ff;}#sk-container-id-4 div.sk-toggleable__content pre {margin: 0.2em;color: black;border-radius: 0.25em;background-color: #f0f8ff;}#sk-container-id-4 input.sk-toggleable__control:checked~div.sk-toggleable__content {max-height: 200px;max-width: 100%;overflow: auto;}#sk-container-id-4 input.sk-toggleable__control:checked~label.sk-toggleable__label-arrow:before {content: \"▾\";}#sk-container-id-4 div.sk-estimator input.sk-toggleable__control:checked~label.sk-toggleable__label {background-color: #d4ebff;}#sk-container-id-4 div.sk-label input.sk-toggleable__control:checked~label.sk-toggleable__label {background-color: #d4ebff;}#sk-container-id-4 input.sk-hidden--visually {border: 0;clip: rect(1px 1px 1px 1px);clip: rect(1px, 1px, 1px, 1px);height: 1px;margin: -1px;overflow: hidden;padding: 0;position: absolute;width: 1px;}#sk-container-id-4 div.sk-estimator {font-family: monospace;background-color: #f0f8ff;border: 1px dotted black;border-radius: 0.25em;box-sizing: border-box;margin-bottom: 0.5em;}#sk-container-id-4 div.sk-estimator:hover {background-color: #d4ebff;}#sk-container-id-4 div.sk-parallel-item::after {content: \"\";width: 100%;border-bottom: 1px solid gray;flex-grow: 1;}#sk-container-id-4 div.sk-label:hover label.sk-toggleable__label {background-color: #d4ebff;}#sk-container-id-4 div.sk-serial::before {content: \"\";position: absolute;border-left: 1px solid gray;box-sizing: border-box;top: 0;bottom: 0;left: 50%;z-index: 0;}#sk-container-id-4 div.sk-serial {display: flex;flex-direction: column;align-items: center;background-color: white;padding-right: 0.2em;padding-left: 0.2em;position: relative;}#sk-container-id-4 div.sk-item {position: relative;z-index: 1;}#sk-container-id-4 div.sk-parallel {display: flex;align-items: stretch;justify-content: center;background-color: white;position: relative;}#sk-container-id-4 div.sk-item::before, #sk-container-id-4 div.sk-parallel-item::before {content: \"\";position: absolute;border-left: 1px solid gray;box-sizing: border-box;top: 0;bottom: 0;left: 50%;z-index: -1;}#sk-container-id-4 div.sk-parallel-item {display: flex;flex-direction: column;z-index: 1;position: relative;background-color: white;}#sk-container-id-4 div.sk-parallel-item:first-child::after {align-self: flex-end;width: 50%;}#sk-container-id-4 div.sk-parallel-item:last-child::after {align-self: flex-start;width: 50%;}#sk-container-id-4 div.sk-parallel-item:only-child::after {width: 0;}#sk-container-id-4 div.sk-dashed-wrapped {border: 1px dashed gray;margin: 0 0.4em 0.5em 0.4em;box-sizing: border-box;padding-bottom: 0.4em;background-color: white;}#sk-container-id-4 div.sk-label label {font-family: monospace;font-weight: bold;display: inline-block;line-height: 1.2em;}#sk-container-id-4 div.sk-label-container {text-align: center;}#sk-container-id-4 div.sk-container {/* jupyter's `normalize.less` sets `[hidden] { display: none; }` but bootstrap.min.css set `[hidden] { display: none !important; }` so we also need the `!important` here to be able to override the default hidden behavior on the sphinx rendered scikit-learn.org. See: https://github.com/scikit-learn/scikit-learn/issues/21755 */display: inline-block !important;position: relative;}#sk-container-id-4 div.sk-text-repr-fallback {display: none;}</style><div id=\"sk-container-id-4\" class=\"sk-top-container\"><div class=\"sk-text-repr-fallback\"><pre>DecisionTreeClassifier(max_depth=1, random_state=70)</pre><b>In a Jupyter environment, please rerun this cell to show the HTML representation or trust the notebook. <br />On GitHub, the HTML representation is unable to render, please try loading this page with nbviewer.org.</b></div><div class=\"sk-container\" hidden><div class=\"sk-item\"><div class=\"sk-estimator sk-toggleable\"><input class=\"sk-toggleable__control sk-hidden--visually\" id=\"sk-estimator-id-4\" type=\"checkbox\" checked><label for=\"sk-estimator-id-4\" class=\"sk-toggleable__label sk-toggleable__label-arrow\">DecisionTreeClassifier</label><div class=\"sk-toggleable__content\"><pre>DecisionTreeClassifier(max_depth=1, random_state=70)</pre></div></div></div></div></div>"
      ],
      "text/plain": [
       "DecisionTreeClassifier(max_depth=1, random_state=70)"
      ]
     },
     "execution_count": 59,
     "metadata": {},
     "output_type": "execute_result"
    }
   ],
   "source": [
    "dt_grid.best_estimator_"
   ]
  },
  {
   "cell_type": "code",
   "execution_count": 60,
   "id": "c46b58cf",
   "metadata": {},
   "outputs": [
    {
     "data": {
      "text/html": [
       "<div>\n",
       "<style scoped>\n",
       "    .dataframe tbody tr th:only-of-type {\n",
       "        vertical-align: middle;\n",
       "    }\n",
       "\n",
       "    .dataframe tbody tr th {\n",
       "        vertical-align: top;\n",
       "    }\n",
       "\n",
       "    .dataframe thead th {\n",
       "        text-align: right;\n",
       "    }\n",
       "</style>\n",
       "<table border=\"1\" class=\"dataframe\">\n",
       "  <thead>\n",
       "    <tr style=\"text-align: right;\">\n",
       "      <th></th>\n",
       "      <th>Credit_History</th>\n",
       "    </tr>\n",
       "  </thead>\n",
       "  <tbody>\n",
       "    <tr>\n",
       "      <th>158</th>\n",
       "      <td>1</td>\n",
       "    </tr>\n",
       "    <tr>\n",
       "      <th>119</th>\n",
       "      <td>1</td>\n",
       "    </tr>\n",
       "    <tr>\n",
       "      <th>448</th>\n",
       "      <td>0</td>\n",
       "    </tr>\n",
       "    <tr>\n",
       "      <th>519</th>\n",
       "      <td>1</td>\n",
       "    </tr>\n",
       "    <tr>\n",
       "      <th>391</th>\n",
       "      <td>1</td>\n",
       "    </tr>\n",
       "    <tr>\n",
       "      <th>...</th>\n",
       "      <td>...</td>\n",
       "    </tr>\n",
       "    <tr>\n",
       "      <th>70</th>\n",
       "      <td>1</td>\n",
       "    </tr>\n",
       "    <tr>\n",
       "      <th>370</th>\n",
       "      <td>1</td>\n",
       "    </tr>\n",
       "    <tr>\n",
       "      <th>140</th>\n",
       "      <td>1</td>\n",
       "    </tr>\n",
       "    <tr>\n",
       "      <th>252</th>\n",
       "      <td>1</td>\n",
       "    </tr>\n",
       "    <tr>\n",
       "      <th>390</th>\n",
       "      <td>1</td>\n",
       "    </tr>\n",
       "  </tbody>\n",
       "</table>\n",
       "<p>423 rows × 1 columns</p>\n",
       "</div>"
      ],
      "text/plain": [
       "     Credit_History\n",
       "158               1\n",
       "119               1\n",
       "448               0\n",
       "519               1\n",
       "391               1\n",
       "..              ...\n",
       "70                1\n",
       "370               1\n",
       "140               1\n",
       "252               1\n",
       "390               1\n",
       "\n",
       "[423 rows x 1 columns]"
      ]
     },
     "execution_count": 60,
     "metadata": {},
     "output_type": "execute_result"
    }
   ],
   "source": [
    "X_train_dt"
   ]
  },
  {
   "cell_type": "markdown",
   "id": "b43ed4f4",
   "metadata": {},
   "source": [
    "### 🥏ML Algorithm - 5.Random forest classifier"
   ]
  },
  {
   "cell_type": "code",
   "execution_count": 61,
   "id": "7ff48b80",
   "metadata": {},
   "outputs": [
    {
     "name": "stdout",
     "output_type": "stream",
     "text": [
      "Train Accuracy: 0.9905437352245863\n",
      "Cross validation score: 0.8063025210084034\n",
      "Test Accuracy: 0.7641509433962265\n"
     ]
    }
   ],
   "source": [
    "from sklearn.ensemble import RandomForestClassifier\n",
    "estimator=RandomForestClassifier(random_state=70)\n",
    "param_grid={'n_estimators':list(range(1,51))}\n",
    "\n",
    "from sklearn.model_selection import GridSearchCV\n",
    "rf_grid=GridSearchCV(estimator,param_grid,scoring='accuracy',cv=5)\n",
    "rf_grid.fit(X_train,y_train)\n",
    "\n",
    "# identify the best model\n",
    "rf=rf_grid.best_estimator_\n",
    "\n",
    "#identify the importance of each feature\n",
    "rf_fi=rf.feature_importances_\n",
    "\n",
    "# identify the features where the feature importance is greater than 0\n",
    "index=[i for i,X in enumerate(rf_fi) if X>0]\n",
    "\n",
    "# create new dataset with important features\n",
    "X_train_rf=X_train.iloc[:,index]\n",
    "X_test_rf=X_test.iloc[:,index]\n",
    "\n",
    "# train with best model & with important features\n",
    "rf.fit(X_train_rf,y_train)\n",
    "\n",
    "ypred_train=rf.predict(X_train_rf)\n",
    "ypred_test=rf.predict(X_test_rf)\n",
    "\n",
    "# Evaluate the best model\n",
    "print(\"Train Accuracy:\",accuracy_score(y_train,ypred_train))\n",
    "print(\"Cross validation score:\",cross_val_score(rf,X_train_rf,y_train,cv=5,scoring=\"accuracy\").mean())\n",
    "print(\"Test Accuracy:\",accuracy_score(y_test,ypred_test))\n"
   ]
  },
  {
   "cell_type": "markdown",
   "id": "25a88a42",
   "metadata": {},
   "source": [
    "### 🥏ML Algorithm - 6.AdaBoost Classifier"
   ]
  },
  {
   "cell_type": "code",
   "execution_count": 62,
   "id": "bdb329c8",
   "metadata": {},
   "outputs": [
    {
     "name": "stdout",
     "output_type": "stream",
     "text": [
      "Train Accuracy: 0.83451536643026\n",
      "Cross validation score: 0.8322408963585435\n",
      "Test Accuracy: 0.7641509433962265\n"
     ]
    }
   ],
   "source": [
    "from sklearn.ensemble import AdaBoostClassifier\n",
    "estimator=AdaBoostClassifier(random_state=70)\n",
    "param_grid={'n_estimators':list(range(1,51))}\n",
    "\n",
    "from sklearn.model_selection import GridSearchCV\n",
    "ab_grid=GridSearchCV(estimator,param_grid,scoring='accuracy',cv=5)\n",
    "ab_grid.fit(X_train,y_train)\n",
    "\n",
    "# identify the best model\n",
    "ab=ab_grid.best_estimator_\n",
    "\n",
    "#identify the importance of each feature\n",
    "ab_fi=ab.feature_importances_\n",
    "\n",
    "# identify the features where the feature importance is greater than 0\n",
    "index=[i for i,X in enumerate(rf_fi) if X>0]\n",
    "\n",
    "# create new dataset with important features\n",
    "X_train_ab=X_train.iloc[:,index]\n",
    "X_test_ab=X_test.iloc[:,index]\n",
    "\n",
    "# train with best model & with important features\n",
    "ab.fit(X_train_ab,y_train)\n",
    "\n",
    "ypred_train=ab.predict(X_train_ab)\n",
    "ypred_test=ab.predict(X_test_ab)\n",
    "\n",
    "# Evaluate the best model\n",
    "print(\"Train Accuracy:\",accuracy_score(y_train,ypred_train))\n",
    "print(\"Cross validation score:\",cross_val_score(ab,X_train_ab,y_train,cv=5,scoring=\"accuracy\").mean())\n",
    "print(\"Test Accuracy:\",accuracy_score(y_test,ypred_test))\n"
   ]
  },
  {
   "cell_type": "markdown",
   "id": "6acd5b51",
   "metadata": {},
   "source": [
    "###  🥏ML Algorithm - 7. Gradient Boost Classifier"
   ]
  },
  {
   "cell_type": "code",
   "execution_count": 63,
   "id": "a2fd30ef",
   "metadata": {},
   "outputs": [
    {
     "name": "stdout",
     "output_type": "stream",
     "text": [
      "Train Accuracy: 0.8747044917257684\n",
      "Cross validation score: 0.8180952380952382\n",
      "Test Accuracy: 0.7358490566037735\n"
     ]
    }
   ],
   "source": [
    "from sklearn.ensemble import GradientBoostingClassifier\n",
    "estimator=GradientBoostingClassifier(random_state=70)\n",
    "param_grid={'n_estimators':list(range(1,10)),\"learning_rate\":[0.1,0.2,0.3,0.4,0.5,0.6,0.8,0.9]}\n",
    "\n",
    "from sklearn.model_selection import GridSearchCV\n",
    "gb_grid=GridSearchCV(estimator,param_grid,scoring='accuracy',cv=5)\n",
    "gb_grid.fit(X_train,y_train)\n",
    "\n",
    "# identify the best model\n",
    "gb=gb_grid.best_estimator_\n",
    "\n",
    "#identify the importance of each feature\n",
    "gb_fi=gb.feature_importances_\n",
    "\n",
    "# identify the features where the feature importance is greater than 0\n",
    "index=[i for i,X in enumerate(gb_fi) if X>0]\n",
    "\n",
    "# create new dataset with important features\n",
    "X_train_gb=X_train.iloc[:,index]\n",
    "X_test_gb=X_test.iloc[:,index]\n",
    "\n",
    "# train with best model & with important features\n",
    "gb.fit(X_train_gb,y_train)\n",
    "\n",
    "ypred_train=gb.predict(X_train_gb)\n",
    "ypred_test=gb.predict(X_test_gb)\n",
    "\n",
    "# Evaluate the best model\n",
    "print(\"Train Accuracy:\",accuracy_score(y_train,ypred_train))\n",
    "print(\"Cross validation score:\",cross_val_score(gb,X_train_gb,y_train,cv=5,scoring=\"accuracy\").mean())\n",
    "print(\"Test Accuracy:\",accuracy_score(y_test,ypred_test))\n"
   ]
  },
  {
   "cell_type": "markdown",
   "id": "d0a5035b",
   "metadata": {},
   "source": [
    "### 🥏ML Algorithm - 8.XGBoost classifier"
   ]
  },
  {
   "cell_type": "code",
   "execution_count": 64,
   "id": "17ead2d7",
   "metadata": {},
   "outputs": [
    {
     "name": "stdout",
     "output_type": "stream",
     "text": [
      "Train Accuracy: 0.8557919621749409\n",
      "Cross validation score: 0.8275070028011206\n",
      "Test Accuracy: 0.7735849056603774\n"
     ]
    }
   ],
   "source": [
    "from xgboost import XGBClassifier\n",
    "estimator=XGBClassifier(random_state=70)\n",
    "param_grid={'n_estimators':[10,20,40,100],'max_depth':[3,4,5],'gamma':[0,0.15,0.3,0.5,1]}\n",
    "\n",
    "from sklearn.model_selection import GridSearchCV\n",
    "xgb_grid=GridSearchCV(estimator,param_grid,scoring='accuracy',cv=5)\n",
    "xgb_grid.fit(X_train,y_train)\n",
    "\n",
    "# identify the best model\n",
    "xgb=xgb_grid.best_estimator_\n",
    "\n",
    "#identify the importance of each feature\n",
    "xgb_fi=xgb.feature_importances_\n",
    "\n",
    "# identify the features where the feature importance is greater than 0\n",
    "index=[i for i,X in enumerate(xgb_fi) if X>0]\n",
    "\n",
    "# create new dataset with important features\n",
    "X_train_xgb=X_train.iloc[:,index]\n",
    "X_test_xgb=X_test.iloc[:,index]\n",
    "\n",
    "# train with best model & with important features\n",
    "xgb.fit(X_train_xgb,y_train)\n",
    "\n",
    "ypred_train=xgb.predict(X_train_xgb)\n",
    "ypred_test=xgb.predict(X_test_xgb)\n",
    "\n",
    "# Evaluate the best model\n",
    "print(\"Train Accuracy:\",accuracy_score(y_train,ypred_train))\n",
    "print(\"Cross validation score:\",cross_val_score(xgb,X_train_xgb,y_train,cv=5,scoring=\"accuracy\").mean())\n",
    "print(\"Test Accuracy:\",accuracy_score(y_test,ypred_test))\n"
   ]
  },
  {
   "cell_type": "markdown",
   "id": "a11df801",
   "metadata": {},
   "source": [
    "### 🥏ML Algorithm - 9 Naive Bayes"
   ]
  },
  {
   "cell_type": "code",
   "execution_count": 65,
   "id": "cac4e74e",
   "metadata": {},
   "outputs": [
    {
     "name": "stdout",
     "output_type": "stream",
     "text": [
      "Train Accuracy: 0.8557919621749409\n",
      "Cross validation score: 0.8156582633053221\n",
      "Accuracy of naive_bayes is :0.7735849056603774\n"
     ]
    }
   ],
   "source": [
    "# modelling\n",
    "from sklearn.naive_bayes import GaussianNB\n",
    "nb_model= GaussianNB().fit(X_train, y_train)\n",
    "y_pred_nb = nb_model.predict(X_test)\n",
    "naive_bayes_acc = accuracy_score(y_test, y_pred_nb)\n",
    "\n",
    "# Evaluate the best model\n",
    "print(\"Train Accuracy:\",accuracy_score(y_train,ypred_train))\n",
    "print(\"Cross validation score:\",cross_val_score(nb_model,X_train,y_train,cv=5,scoring=\"accuracy\").mean())\n",
    "print(\"Accuracy of naive_bayes is :\" + str(naive_bayes_acc))"
   ]
  },
  {
   "cell_type": "markdown",
   "id": "74b0b43c",
   "metadata": {},
   "source": [
    "* From above ML algorithm Logistic,SVM & Decision Tree has same 78% Accuracy.\n",
    "\n",
    "* Among them Logistic Regression take less time."
   ]
  },
  {
   "cell_type": "markdown",
   "id": "79448ca6",
   "metadata": {},
   "source": [
    "### ⚡Save Model"
   ]
  },
  {
   "cell_type": "code",
   "execution_count": 66,
   "id": "9c31ce87",
   "metadata": {},
   "outputs": [],
   "source": [
    "import joblib "
   ]
  },
  {
   "cell_type": "code",
   "execution_count": 67,
   "id": "1ae27e37",
   "metadata": {},
   "outputs": [],
   "source": [
    "file_name='log_predict'"
   ]
  },
  {
   "cell_type": "code",
   "execution_count": 68,
   "id": "7331ed86",
   "metadata": {},
   "outputs": [
    {
     "data": {
      "text/plain": [
       "['log_predict']"
      ]
     },
     "execution_count": 68,
     "metadata": {},
     "output_type": "execute_result"
    }
   ],
   "source": [
    "joblib.dump(log_model,'log_predict')"
   ]
  },
  {
   "cell_type": "markdown",
   "id": "a4e5011d",
   "metadata": {},
   "source": [
    "# 🎯Step-6)Prediction"
   ]
  },
  {
   "cell_type": "code",
   "execution_count": 69,
   "id": "75b3304b",
   "metadata": {},
   "outputs": [],
   "source": [
    "app=joblib.load('log_predict')"
   ]
  },
  {
   "cell_type": "code",
   "execution_count": 70,
   "id": "da5f1980",
   "metadata": {},
   "outputs": [
    {
     "data": {
      "text/plain": [
       "array([1])"
      ]
     },
     "execution_count": 70,
     "metadata": {},
     "output_type": "execute_result"
    }
   ],
   "source": [
    "arr=[[1,1,2,1,0,6.870558,30.0,1,2,1.866991]]\n",
    "acc=app.predict(arr)\n",
    "acc"
   ]
  },
  {
   "cell_type": "markdown",
   "id": "603c87e7",
   "metadata": {},
   "source": [
    "### **✅This project predicted that loan status is approved for this data.**"
   ]
  },
  {
   "cell_type": "code",
   "execution_count": null,
   "id": "60c9d06b",
   "metadata": {},
   "outputs": [],
   "source": []
  }
 ],
 "metadata": {
  "kernelspec": {
   "display_name": "Python 3 (ipykernel)",
   "language": "python",
   "name": "python3"
  },
  "language_info": {
   "codemirror_mode": {
    "name": "ipython",
    "version": 3
   },
   "file_extension": ".py",
   "mimetype": "text/x-python",
   "name": "python",
   "nbconvert_exporter": "python",
   "pygments_lexer": "ipython3",
   "version": "3.11.4"
  }
 },
 "nbformat": 4,
 "nbformat_minor": 5
}
